{
 "cells": [
  {
   "cell_type": "markdown",
   "metadata": {},
   "source": [
    "<img src=\"static/img/rosslog.png\" align=\"left\">  "
   ]
  },
  {
   "cell_type": "markdown",
   "metadata": {
    "_cell_guid": "e1e663f2-7799-45cf-ba9c-1b90636b5c6e",
    "_uuid": "82ab9b775fcea7f0a7fc33486264640f69b38bf0"
   },
   "source": [
    "# Rossmann Stores Predictions"
   ]
  },
  {
   "cell_type": "markdown",
   "metadata": {},
   "source": [
    "This notebook covers basics of data cleaning, EDA, feature engineering, and data modelling. For more in-deph data analysis, please consider Kaggle Kernels: https://www.kaggle.com/c/rossmann-store-sales/kernels\n",
    "\n",
    "**IMPORTANT: Make sure you do not skip any cells. In that case you risk not being able to accomplish given tasks.** \n"
   ]
  },
  {
   "cell_type": "markdown",
   "metadata": {},
   "source": [
    "## Rossmann Data Cleaning "
   ]
  },
  {
   "cell_type": "markdown",
   "metadata": {},
   "source": [
    "You are provided with historical sales data for 1,115 Rossmann stores. The task is to forecast the \"Sales\" column for the test set. In this first part of the notebook we will walk you through basic steps that need to be done before start with baseline modelling."
   ]
  },
  {
   "cell_type": "markdown",
   "metadata": {
    "_cell_guid": "dd08db0b-3c0e-4a12-b77d-348b430b33d7",
    "_uuid": "82658364a5412b45f3c1bdba11c0bc17a7a9105b"
   },
   "source": [
    "### Load libraries and data"
   ]
  },
  {
   "cell_type": "code",
   "execution_count": 4,
   "metadata": {
    "_cell_guid": "acc6733e-b0f0-4d08-bd45-d50881091212",
    "_uuid": "511329117440698529039824b10aed63cf457722"
   },
   "outputs": [],
   "source": [
    "# NumPy for numerical computing\n",
    "import numpy as np\n",
    "\n",
    "# Pandas for DataFrames\n",
    "import pandas as pd\n",
    "from pandas import DataFrame\n",
    "from pandas import TimeGrouper\n",
    "\n",
    "# Matplotlib for visualization\n",
    "from matplotlib import pyplot as plt\n",
    "\n",
    "# Display plots in the notebook\n",
    "%matplotlib inline \n",
    "\n",
    "# Seaborn for easier visualization\n",
    "import seaborn as sns"
   ]
  },
  {
   "cell_type": "code",
   "execution_count": 5,
   "metadata": {
    "_cell_guid": "0a97eeb3-097f-45a3-8ebf-6309e6bcd0cc",
    "_uuid": "aadc7b21d040e576b32b8d0c5e5fd2dd5e22eedd"
   },
   "outputs": [
    {
     "name": "stderr",
     "output_type": "stream",
     "text": [
      "c:\\users\\nana_oa\\appdata\\local\\programs\\python\\python36-32\\lib\\site-packages\\IPython\\core\\interactiveshell.py:2785: DtypeWarning: Columns (7) have mixed types. Specify dtype option on import or set low_memory=False.\n",
      "  interactivity=interactivity, compiler=compiler, result=result)\n"
     ]
    },
    {
     "data": {
      "text/html": [
       "<div>\n",
       "<style scoped>\n",
       "    .dataframe tbody tr th:only-of-type {\n",
       "        vertical-align: middle;\n",
       "    }\n",
       "\n",
       "    .dataframe tbody tr th {\n",
       "        vertical-align: top;\n",
       "    }\n",
       "\n",
       "    .dataframe thead th {\n",
       "        text-align: right;\n",
       "    }\n",
       "</style>\n",
       "<table border=\"1\" class=\"dataframe\">\n",
       "  <thead>\n",
       "    <tr style=\"text-align: right;\">\n",
       "      <th></th>\n",
       "      <th>Store</th>\n",
       "      <th>DayOfWeek</th>\n",
       "      <th>Date</th>\n",
       "      <th>Sales</th>\n",
       "      <th>Customers</th>\n",
       "      <th>Open</th>\n",
       "      <th>Promo</th>\n",
       "      <th>StateHoliday</th>\n",
       "      <th>SchoolHoliday</th>\n",
       "    </tr>\n",
       "  </thead>\n",
       "  <tbody>\n",
       "    <tr>\n",
       "      <th>0</th>\n",
       "      <td>1</td>\n",
       "      <td>5</td>\n",
       "      <td>2015-07-31</td>\n",
       "      <td>5263</td>\n",
       "      <td>555</td>\n",
       "      <td>1</td>\n",
       "      <td>1</td>\n",
       "      <td>0</td>\n",
       "      <td>1</td>\n",
       "    </tr>\n",
       "    <tr>\n",
       "      <th>1</th>\n",
       "      <td>2</td>\n",
       "      <td>5</td>\n",
       "      <td>2015-07-31</td>\n",
       "      <td>6064</td>\n",
       "      <td>625</td>\n",
       "      <td>1</td>\n",
       "      <td>1</td>\n",
       "      <td>0</td>\n",
       "      <td>1</td>\n",
       "    </tr>\n",
       "    <tr>\n",
       "      <th>2</th>\n",
       "      <td>3</td>\n",
       "      <td>5</td>\n",
       "      <td>2015-07-31</td>\n",
       "      <td>8314</td>\n",
       "      <td>821</td>\n",
       "      <td>1</td>\n",
       "      <td>1</td>\n",
       "      <td>0</td>\n",
       "      <td>1</td>\n",
       "    </tr>\n",
       "    <tr>\n",
       "      <th>3</th>\n",
       "      <td>4</td>\n",
       "      <td>5</td>\n",
       "      <td>2015-07-31</td>\n",
       "      <td>13995</td>\n",
       "      <td>1498</td>\n",
       "      <td>1</td>\n",
       "      <td>1</td>\n",
       "      <td>0</td>\n",
       "      <td>1</td>\n",
       "    </tr>\n",
       "    <tr>\n",
       "      <th>4</th>\n",
       "      <td>5</td>\n",
       "      <td>5</td>\n",
       "      <td>2015-07-31</td>\n",
       "      <td>4822</td>\n",
       "      <td>559</td>\n",
       "      <td>1</td>\n",
       "      <td>1</td>\n",
       "      <td>0</td>\n",
       "      <td>1</td>\n",
       "    </tr>\n",
       "  </tbody>\n",
       "</table>\n",
       "</div>"
      ],
      "text/plain": [
       "   Store  DayOfWeek        Date  Sales  Customers  Open  Promo StateHoliday  \\\n",
       "0      1          5  2015-07-31   5263        555     1      1            0   \n",
       "1      2          5  2015-07-31   6064        625     1      1            0   \n",
       "2      3          5  2015-07-31   8314        821     1      1            0   \n",
       "3      4          5  2015-07-31  13995       1498     1      1            0   \n",
       "4      5          5  2015-07-31   4822        559     1      1            0   \n",
       "\n",
       "   SchoolHoliday  \n",
       "0              1  \n",
       "1              1  \n",
       "2              1  \n",
       "3              1  \n",
       "4              1  "
      ]
     },
     "execution_count": 5,
     "metadata": {},
     "output_type": "execute_result"
    }
   ],
   "source": [
    "# Load data from CSV\n",
    "train_dataset = pd.read_csv(\"static/data/train.csv\")\n",
    "stores = pd.read_csv(\"static/data/store.csv\")\n",
    "\n",
    "train_dataset.head()"
   ]
  },
  {
   "cell_type": "markdown",
   "metadata": {},
   "source": [
    "The train data set contains sales by day for each store with the following columns:\n",
    "\n",
    "- Store - a unique id number\n",
    "- DayOfWeek/Date - the day of the week (1-7) and date (YYYY-MM-DD) for a sales data point\n",
    "- Sales - the sales for a given day\n",
    "- Customers - the number of customers on a given day. This column is highly correlated with sales and is not present in the test set.\n",
    "- Open - Values: 0 = closed, 1 = open\n",
    "- Promo - indicates whether a store was running a sales promotion that day\n",
    "- StateHoliday - Values: a = public holiday, b = Easter holiday, c = Christmas, 0 = None\n",
    "- SchoolHoliday - indicates if a store was affected by the closure of public schools on that day"
   ]
  },
  {
   "cell_type": "markdown",
   "metadata": {},
   "source": [
    "###### Question 1"
   ]
  },
  {
   "cell_type": "code",
   "execution_count": 6,
   "metadata": {},
   "outputs": [
    {
     "data": {
      "text/html": [
       "<div>\n",
       "<style scoped>\n",
       "    .dataframe tbody tr th:only-of-type {\n",
       "        vertical-align: middle;\n",
       "    }\n",
       "\n",
       "    .dataframe tbody tr th {\n",
       "        vertical-align: top;\n",
       "    }\n",
       "\n",
       "    .dataframe thead th {\n",
       "        text-align: right;\n",
       "    }\n",
       "</style>\n",
       "<table border=\"1\" class=\"dataframe\">\n",
       "  <thead>\n",
       "    <tr style=\"text-align: right;\">\n",
       "      <th></th>\n",
       "      <th>Store</th>\n",
       "      <th>StoreType</th>\n",
       "      <th>Assortment</th>\n",
       "      <th>CompetitionDistance</th>\n",
       "      <th>CompetitionOpenSinceMonth</th>\n",
       "      <th>CompetitionOpenSinceYear</th>\n",
       "      <th>Promo2</th>\n",
       "      <th>Promo2SinceWeek</th>\n",
       "      <th>Promo2SinceYear</th>\n",
       "      <th>PromoInterval</th>\n",
       "    </tr>\n",
       "  </thead>\n",
       "  <tbody>\n",
       "    <tr>\n",
       "      <th>0</th>\n",
       "      <td>1</td>\n",
       "      <td>c</td>\n",
       "      <td>a</td>\n",
       "      <td>1270.0</td>\n",
       "      <td>9.0</td>\n",
       "      <td>2008.0</td>\n",
       "      <td>0</td>\n",
       "      <td>NaN</td>\n",
       "      <td>NaN</td>\n",
       "      <td>NaN</td>\n",
       "    </tr>\n",
       "    <tr>\n",
       "      <th>1</th>\n",
       "      <td>2</td>\n",
       "      <td>a</td>\n",
       "      <td>a</td>\n",
       "      <td>570.0</td>\n",
       "      <td>11.0</td>\n",
       "      <td>2007.0</td>\n",
       "      <td>1</td>\n",
       "      <td>13.0</td>\n",
       "      <td>2010.0</td>\n",
       "      <td>Jan,Apr,Jul,Oct</td>\n",
       "    </tr>\n",
       "    <tr>\n",
       "      <th>2</th>\n",
       "      <td>3</td>\n",
       "      <td>a</td>\n",
       "      <td>a</td>\n",
       "      <td>14130.0</td>\n",
       "      <td>12.0</td>\n",
       "      <td>2006.0</td>\n",
       "      <td>1</td>\n",
       "      <td>14.0</td>\n",
       "      <td>2011.0</td>\n",
       "      <td>Jan,Apr,Jul,Oct</td>\n",
       "    </tr>\n",
       "    <tr>\n",
       "      <th>3</th>\n",
       "      <td>4</td>\n",
       "      <td>c</td>\n",
       "      <td>c</td>\n",
       "      <td>620.0</td>\n",
       "      <td>9.0</td>\n",
       "      <td>2009.0</td>\n",
       "      <td>0</td>\n",
       "      <td>NaN</td>\n",
       "      <td>NaN</td>\n",
       "      <td>NaN</td>\n",
       "    </tr>\n",
       "    <tr>\n",
       "      <th>4</th>\n",
       "      <td>5</td>\n",
       "      <td>a</td>\n",
       "      <td>a</td>\n",
       "      <td>29910.0</td>\n",
       "      <td>4.0</td>\n",
       "      <td>2015.0</td>\n",
       "      <td>0</td>\n",
       "      <td>NaN</td>\n",
       "      <td>NaN</td>\n",
       "      <td>NaN</td>\n",
       "    </tr>\n",
       "  </tbody>\n",
       "</table>\n",
       "</div>"
      ],
      "text/plain": [
       "   Store StoreType Assortment  CompetitionDistance  CompetitionOpenSinceMonth  \\\n",
       "0      1         c          a               1270.0                        9.0   \n",
       "1      2         a          a                570.0                       11.0   \n",
       "2      3         a          a              14130.0                       12.0   \n",
       "3      4         c          c                620.0                        9.0   \n",
       "4      5         a          a              29910.0                        4.0   \n",
       "\n",
       "   CompetitionOpenSinceYear  Promo2  Promo2SinceWeek  Promo2SinceYear  \\\n",
       "0                    2008.0       0              NaN              NaN   \n",
       "1                    2007.0       1             13.0           2010.0   \n",
       "2                    2006.0       1             14.0           2011.0   \n",
       "3                    2009.0       0              NaN              NaN   \n",
       "4                    2015.0       0              NaN              NaN   \n",
       "\n",
       "     PromoInterval  \n",
       "0              NaN  \n",
       "1  Jan,Apr,Jul,Oct  \n",
       "2  Jan,Apr,Jul,Oct  \n",
       "3              NaN  \n",
       "4              NaN  "
      ]
     },
     "execution_count": 6,
     "metadata": {},
     "output_type": "execute_result"
    }
   ],
   "source": [
    "# YOUR CODE GOES HERE\n",
    "# Print first five rows of the \"stores\" dataset\n",
    "\n",
    "stores.head()"
   ]
  },
  {
   "cell_type": "markdown",
   "metadata": {},
   "source": [
    "The stores data set contains additional columns about each store that does not vary by day:\n",
    "\n",
    "- StoreType - differentiates between 4 different store models: a, b, c, d\n",
    "- Assortment - describes the level of products available: a = basic, b = extra, c = extended\n",
    "- CompetitionDistance - distance in meters to the nearest competitor\n",
    "- CompetitionOpenSince[Month/Year] - month/year when the nearest competitor was opened\n",
    "- Promo2 - indicator for a recurring promotion: 0 = store not participating, 1 = participating\n",
    "- Promo2Since[Week/Year] - calendar week/year when the store started participating in Promo2\n",
    "- PromoInterval - describes the intervals when Promo2 is started. E.g. \"Feb,May,Aug,Nov\" means each round starts in those months of any given year for that store"
   ]
  },
  {
   "cell_type": "markdown",
   "metadata": {},
   "source": [
    "###### Question 2"
   ]
  },
  {
   "cell_type": "code",
   "execution_count": 7,
   "metadata": {},
   "outputs": [
    {
     "name": "stdout",
     "output_type": "stream",
     "text": [
      "train shape: (1017209, 9)\n",
      "store shape:  (1115, 10)\n"
     ]
    }
   ],
   "source": [
    "# YOUR CODE GOES HERE\n",
    "# Chech out the shape of the datasets. \n",
    "# We have a lot of data observations to play around.\n",
    "\n",
    "t_shape = train_dataset.shape\n",
    "st_shape = stores.shape\n",
    "print('train shape:',  t_shape)\n",
    "print('store shape: ',st_shape)\n",
    "\n"
   ]
  },
  {
   "cell_type": "markdown",
   "metadata": {},
   "source": [
    "Take a look and understand different data types."
   ]
  },
  {
   "cell_type": "code",
   "execution_count": 8,
   "metadata": {
    "_cell_guid": "99a7f662-57af-477a-a23c-3bfcf7ae5513",
    "_uuid": "7c499cc55c5007b8f58f5a5e1e5c64917286ff3e"
   },
   "outputs": [
    {
     "name": "stdout",
     "output_type": "stream",
     "text": [
      "Store             int64\n",
      "DayOfWeek         int64\n",
      "Date             object\n",
      "Sales             int64\n",
      "Customers         int64\n",
      "Open              int64\n",
      "Promo             int64\n",
      "StateHoliday     object\n",
      "SchoolHoliday     int64\n",
      "dtype: object \n",
      "\n",
      "Store                          int64\n",
      "StoreType                     object\n",
      "Assortment                    object\n",
      "CompetitionDistance          float64\n",
      "CompetitionOpenSinceMonth    float64\n",
      "CompetitionOpenSinceYear     float64\n",
      "Promo2                         int64\n",
      "Promo2SinceWeek              float64\n",
      "Promo2SinceYear              float64\n",
      "PromoInterval                 object\n",
      "dtype: object\n"
     ]
    }
   ],
   "source": [
    "# Column datatypes\n",
    "print(train_dataset.dtypes,'\\n')\n",
    "print(stores.dtypes)"
   ]
  },
  {
   "cell_type": "markdown",
   "metadata": {
    "_cell_guid": "453b25d1-f99c-4b13-8310-df4f736e5c6b",
    "_uuid": "62794228d5ba90099fdc5ce2f75cc31d89708258"
   },
   "source": [
    "### Drop unwanted data"
   ]
  },
  {
   "cell_type": "markdown",
   "metadata": {},
   "source": [
    "The overall goals during the data cleaning phase is to fix any problems with the provided data sets, such as:\n",
    "\n",
    "- Fix inconsistent data\n",
    "- Impute missing data (There are many ways to impute data, but for the purpose of this assignment, we will simply drop missing data for convenience)\n",
    "- Convert categorical variables to one-hot encoded binary variables\n",
    "- Check for outlying values, and correct them if necessary\n",
    "\n",
    "We needed to fix these types of problems so that our prediction models could be fit as accurately as possible."
   ]
  },
  {
   "cell_type": "code",
   "execution_count": 9,
   "metadata": {
    "_cell_guid": "0b3e01b4-8d51-4029-8f29-40a89d95508b",
    "_uuid": "5c2634eec6e5b995d822ffbd09724dad67b003d5"
   },
   "outputs": [
    {
     "data": {
      "text/plain": [
       "((1017209, 9), (1115, 10))"
      ]
     },
     "execution_count": 9,
     "metadata": {},
     "output_type": "execute_result"
    }
   ],
   "source": [
    "# Check for duplicates\n",
    "train_dataset = train_dataset.drop_duplicates()\n",
    "stores = stores.drop_duplicates()\n",
    "\n",
    "# Print shape after removing duplicates\n",
    "train_dataset.shape, stores.shape"
   ]
  },
  {
   "cell_type": "markdown",
   "metadata": {},
   "source": [
    "There were no duplicates. Now, let us check closed stores, stores with no customers, and stores where sales values equals zero."
   ]
  },
  {
   "cell_type": "code",
   "execution_count": 10,
   "metadata": {
    "_cell_guid": "56e7d8b2-d9c0-4bba-9e38-b63fcb601814",
    "_uuid": "1d340477c6f43609eba155140b5f573ed21d6629"
   },
   "outputs": [
    {
     "name": "stdout",
     "output_type": "stream",
     "text": [
      "The number of records for closed stores:  (172817, 9)\n"
     ]
    }
   ],
   "source": [
    "# Check how many records are for days when stores are closed\n",
    "print(\"The number of records for closed stores: \", train_dataset[train_dataset.Open == 0].shape)"
   ]
  },
  {
   "cell_type": "markdown",
   "metadata": {},
   "source": [
    "Even though there are substantial number of records recorded when stores are closed, we are going to drop these observations because sales, our response variable, would be 0 for the days when the store is closed (there is no need for regression). "
   ]
  },
  {
   "cell_type": "code",
   "execution_count": 11,
   "metadata": {
    "_cell_guid": "56e7d8b2-d9c0-4bba-9e38-b63fcb601814",
    "_uuid": "1d340477c6f43609eba155140b5f573ed21d6629"
   },
   "outputs": [
    {
     "data": {
      "text/plain": [
       "(844392, 9)"
      ]
     },
     "execution_count": 11,
     "metadata": {},
     "output_type": "execute_result"
    }
   ],
   "source": [
    "# Drop observations with closed stores\n",
    "train_dataset = train_dataset[train_dataset.Open != 0]\n",
    "train_dataset.shape"
   ]
  },
  {
   "cell_type": "markdown",
   "metadata": {},
   "source": [
    "###### Question 3"
   ]
  },
  {
   "cell_type": "code",
   "execution_count": 12,
   "metadata": {},
   "outputs": [
    {
     "data": {
      "text/html": [
       "<div>\n",
       "<style scoped>\n",
       "    .dataframe tbody tr th:only-of-type {\n",
       "        vertical-align: middle;\n",
       "    }\n",
       "\n",
       "    .dataframe tbody tr th {\n",
       "        vertical-align: top;\n",
       "    }\n",
       "\n",
       "    .dataframe thead th {\n",
       "        text-align: right;\n",
       "    }\n",
       "</style>\n",
       "<table border=\"1\" class=\"dataframe\">\n",
       "  <thead>\n",
       "    <tr style=\"text-align: right;\">\n",
       "      <th></th>\n",
       "      <th>Store</th>\n",
       "      <th>DayOfWeek</th>\n",
       "      <th>Date</th>\n",
       "      <th>Sales</th>\n",
       "      <th>Customers</th>\n",
       "      <th>Open</th>\n",
       "      <th>Promo</th>\n",
       "      <th>StateHoliday</th>\n",
       "      <th>SchoolHoliday</th>\n",
       "    </tr>\n",
       "  </thead>\n",
       "  <tbody>\n",
       "    <tr>\n",
       "      <th>86825</th>\n",
       "      <td>971</td>\n",
       "      <td>5</td>\n",
       "      <td>2015-05-15</td>\n",
       "      <td>0</td>\n",
       "      <td>0</td>\n",
       "      <td>1</td>\n",
       "      <td>0</td>\n",
       "      <td>0</td>\n",
       "      <td>1</td>\n",
       "    </tr>\n",
       "    <tr>\n",
       "      <th>142278</th>\n",
       "      <td>674</td>\n",
       "      <td>4</td>\n",
       "      <td>2015-03-26</td>\n",
       "      <td>0</td>\n",
       "      <td>0</td>\n",
       "      <td>1</td>\n",
       "      <td>0</td>\n",
       "      <td>0</td>\n",
       "      <td>0</td>\n",
       "    </tr>\n",
       "    <tr>\n",
       "      <th>196938</th>\n",
       "      <td>699</td>\n",
       "      <td>4</td>\n",
       "      <td>2015-02-05</td>\n",
       "      <td>0</td>\n",
       "      <td>0</td>\n",
       "      <td>1</td>\n",
       "      <td>1</td>\n",
       "      <td>0</td>\n",
       "      <td>0</td>\n",
       "    </tr>\n",
       "    <tr>\n",
       "      <th>322053</th>\n",
       "      <td>708</td>\n",
       "      <td>3</td>\n",
       "      <td>2014-10-01</td>\n",
       "      <td>0</td>\n",
       "      <td>0</td>\n",
       "      <td>1</td>\n",
       "      <td>1</td>\n",
       "      <td>0</td>\n",
       "      <td>0</td>\n",
       "    </tr>\n",
       "    <tr>\n",
       "      <th>330176</th>\n",
       "      <td>357</td>\n",
       "      <td>1</td>\n",
       "      <td>2014-09-22</td>\n",
       "      <td>0</td>\n",
       "      <td>0</td>\n",
       "      <td>1</td>\n",
       "      <td>0</td>\n",
       "      <td>0</td>\n",
       "      <td>0</td>\n",
       "    </tr>\n",
       "    <tr>\n",
       "      <th>340348</th>\n",
       "      <td>227</td>\n",
       "      <td>4</td>\n",
       "      <td>2014-09-11</td>\n",
       "      <td>0</td>\n",
       "      <td>0</td>\n",
       "      <td>1</td>\n",
       "      <td>0</td>\n",
       "      <td>0</td>\n",
       "      <td>0</td>\n",
       "    </tr>\n",
       "    <tr>\n",
       "      <th>340860</th>\n",
       "      <td>835</td>\n",
       "      <td>4</td>\n",
       "      <td>2014-09-11</td>\n",
       "      <td>0</td>\n",
       "      <td>0</td>\n",
       "      <td>1</td>\n",
       "      <td>0</td>\n",
       "      <td>0</td>\n",
       "      <td>0</td>\n",
       "    </tr>\n",
       "    <tr>\n",
       "      <th>341795</th>\n",
       "      <td>835</td>\n",
       "      <td>3</td>\n",
       "      <td>2014-09-10</td>\n",
       "      <td>0</td>\n",
       "      <td>0</td>\n",
       "      <td>1</td>\n",
       "      <td>0</td>\n",
       "      <td>0</td>\n",
       "      <td>0</td>\n",
       "    </tr>\n",
       "    <tr>\n",
       "      <th>346232</th>\n",
       "      <td>548</td>\n",
       "      <td>5</td>\n",
       "      <td>2014-09-05</td>\n",
       "      <td>0</td>\n",
       "      <td>0</td>\n",
       "      <td>1</td>\n",
       "      <td>1</td>\n",
       "      <td>0</td>\n",
       "      <td>1</td>\n",
       "    </tr>\n",
       "    <tr>\n",
       "      <th>346734</th>\n",
       "      <td>28</td>\n",
       "      <td>4</td>\n",
       "      <td>2014-09-04</td>\n",
       "      <td>0</td>\n",
       "      <td>0</td>\n",
       "      <td>1</td>\n",
       "      <td>1</td>\n",
       "      <td>0</td>\n",
       "      <td>0</td>\n",
       "    </tr>\n",
       "    <tr>\n",
       "      <th>347669</th>\n",
       "      <td>28</td>\n",
       "      <td>3</td>\n",
       "      <td>2014-09-03</td>\n",
       "      <td>0</td>\n",
       "      <td>0</td>\n",
       "      <td>1</td>\n",
       "      <td>1</td>\n",
       "      <td>0</td>\n",
       "      <td>1</td>\n",
       "    </tr>\n",
       "    <tr>\n",
       "      <th>348604</th>\n",
       "      <td>28</td>\n",
       "      <td>2</td>\n",
       "      <td>2014-09-02</td>\n",
       "      <td>0</td>\n",
       "      <td>0</td>\n",
       "      <td>1</td>\n",
       "      <td>1</td>\n",
       "      <td>0</td>\n",
       "      <td>1</td>\n",
       "    </tr>\n",
       "    <tr>\n",
       "      <th>386065</th>\n",
       "      <td>102</td>\n",
       "      <td>4</td>\n",
       "      <td>2014-07-24</td>\n",
       "      <td>0</td>\n",
       "      <td>0</td>\n",
       "      <td>1</td>\n",
       "      <td>0</td>\n",
       "      <td>0</td>\n",
       "      <td>1</td>\n",
       "    </tr>\n",
       "    <tr>\n",
       "      <th>386173</th>\n",
       "      <td>238</td>\n",
       "      <td>4</td>\n",
       "      <td>2014-07-24</td>\n",
       "      <td>0</td>\n",
       "      <td>0</td>\n",
       "      <td>1</td>\n",
       "      <td>0</td>\n",
       "      <td>0</td>\n",
       "      <td>1</td>\n",
       "    </tr>\n",
       "    <tr>\n",
       "      <th>386227</th>\n",
       "      <td>303</td>\n",
       "      <td>4</td>\n",
       "      <td>2014-07-24</td>\n",
       "      <td>0</td>\n",
       "      <td>0</td>\n",
       "      <td>1</td>\n",
       "      <td>0</td>\n",
       "      <td>0</td>\n",
       "      <td>1</td>\n",
       "    </tr>\n",
       "    <tr>\n",
       "      <th>386304</th>\n",
       "      <td>387</td>\n",
       "      <td>4</td>\n",
       "      <td>2014-07-24</td>\n",
       "      <td>0</td>\n",
       "      <td>0</td>\n",
       "      <td>1</td>\n",
       "      <td>0</td>\n",
       "      <td>0</td>\n",
       "      <td>1</td>\n",
       "    </tr>\n",
       "    <tr>\n",
       "      <th>387652</th>\n",
       "      <td>882</td>\n",
       "      <td>3</td>\n",
       "      <td>2014-07-23</td>\n",
       "      <td>0</td>\n",
       "      <td>0</td>\n",
       "      <td>1</td>\n",
       "      <td>0</td>\n",
       "      <td>0</td>\n",
       "      <td>1</td>\n",
       "    </tr>\n",
       "    <tr>\n",
       "      <th>387656</th>\n",
       "      <td>887</td>\n",
       "      <td>3</td>\n",
       "      <td>2014-07-23</td>\n",
       "      <td>0</td>\n",
       "      <td>0</td>\n",
       "      <td>1</td>\n",
       "      <td>0</td>\n",
       "      <td>0</td>\n",
       "      <td>0</td>\n",
       "    </tr>\n",
       "    <tr>\n",
       "      <th>397285</th>\n",
       "      <td>102</td>\n",
       "      <td>6</td>\n",
       "      <td>2014-07-12</td>\n",
       "      <td>0</td>\n",
       "      <td>0</td>\n",
       "      <td>1</td>\n",
       "      <td>0</td>\n",
       "      <td>0</td>\n",
       "      <td>0</td>\n",
       "    </tr>\n",
       "    <tr>\n",
       "      <th>406384</th>\n",
       "      <td>925</td>\n",
       "      <td>4</td>\n",
       "      <td>2014-07-03</td>\n",
       "      <td>0</td>\n",
       "      <td>0</td>\n",
       "      <td>1</td>\n",
       "      <td>1</td>\n",
       "      <td>0</td>\n",
       "      <td>0</td>\n",
       "    </tr>\n",
       "    <tr>\n",
       "      <th>407532</th>\n",
       "      <td>57</td>\n",
       "      <td>2</td>\n",
       "      <td>2014-07-01</td>\n",
       "      <td>0</td>\n",
       "      <td>0</td>\n",
       "      <td>1</td>\n",
       "      <td>1</td>\n",
       "      <td>0</td>\n",
       "      <td>0</td>\n",
       "    </tr>\n",
       "    <tr>\n",
       "      <th>437311</th>\n",
       "      <td>1017</td>\n",
       "      <td>4</td>\n",
       "      <td>2014-06-05</td>\n",
       "      <td>0</td>\n",
       "      <td>0</td>\n",
       "      <td>1</td>\n",
       "      <td>1</td>\n",
       "      <td>0</td>\n",
       "      <td>0</td>\n",
       "    </tr>\n",
       "    <tr>\n",
       "      <th>438426</th>\n",
       "      <td>1017</td>\n",
       "      <td>3</td>\n",
       "      <td>2014-06-04</td>\n",
       "      <td>0</td>\n",
       "      <td>0</td>\n",
       "      <td>1</td>\n",
       "      <td>1</td>\n",
       "      <td>0</td>\n",
       "      <td>0</td>\n",
       "    </tr>\n",
       "    <tr>\n",
       "      <th>477534</th>\n",
       "      <td>1100</td>\n",
       "      <td>3</td>\n",
       "      <td>2014-04-30</td>\n",
       "      <td>0</td>\n",
       "      <td>0</td>\n",
       "      <td>1</td>\n",
       "      <td>1</td>\n",
       "      <td>0</td>\n",
       "      <td>0</td>\n",
       "    </tr>\n",
       "    <tr>\n",
       "      <th>506085</th>\n",
       "      <td>661</td>\n",
       "      <td>5</td>\n",
       "      <td>2014-04-04</td>\n",
       "      <td>0</td>\n",
       "      <td>0</td>\n",
       "      <td>1</td>\n",
       "      <td>1</td>\n",
       "      <td>0</td>\n",
       "      <td>0</td>\n",
       "    </tr>\n",
       "    <tr>\n",
       "      <th>512964</th>\n",
       "      <td>850</td>\n",
       "      <td>6</td>\n",
       "      <td>2014-03-29</td>\n",
       "      <td>0</td>\n",
       "      <td>0</td>\n",
       "      <td>1</td>\n",
       "      <td>0</td>\n",
       "      <td>0</td>\n",
       "      <td>0</td>\n",
       "    </tr>\n",
       "    <tr>\n",
       "      <th>525365</th>\n",
       "      <td>986</td>\n",
       "      <td>2</td>\n",
       "      <td>2014-03-18</td>\n",
       "      <td>0</td>\n",
       "      <td>0</td>\n",
       "      <td>1</td>\n",
       "      <td>1</td>\n",
       "      <td>0</td>\n",
       "      <td>0</td>\n",
       "    </tr>\n",
       "    <tr>\n",
       "      <th>531396</th>\n",
       "      <td>327</td>\n",
       "      <td>3</td>\n",
       "      <td>2014-03-12</td>\n",
       "      <td>0</td>\n",
       "      <td>0</td>\n",
       "      <td>1</td>\n",
       "      <td>0</td>\n",
       "      <td>0</td>\n",
       "      <td>0</td>\n",
       "    </tr>\n",
       "    <tr>\n",
       "      <th>561199</th>\n",
       "      <td>25</td>\n",
       "      <td>4</td>\n",
       "      <td>2014-02-13</td>\n",
       "      <td>0</td>\n",
       "      <td>0</td>\n",
       "      <td>1</td>\n",
       "      <td>0</td>\n",
       "      <td>0</td>\n",
       "      <td>0</td>\n",
       "    </tr>\n",
       "    <tr>\n",
       "      <th>562314</th>\n",
       "      <td>25</td>\n",
       "      <td>3</td>\n",
       "      <td>2014-02-12</td>\n",
       "      <td>0</td>\n",
       "      <td>0</td>\n",
       "      <td>1</td>\n",
       "      <td>0</td>\n",
       "      <td>0</td>\n",
       "      <td>0</td>\n",
       "    </tr>\n",
       "    <tr>\n",
       "      <th>582982</th>\n",
       "      <td>623</td>\n",
       "      <td>6</td>\n",
       "      <td>2014-01-25</td>\n",
       "      <td>0</td>\n",
       "      <td>0</td>\n",
       "      <td>1</td>\n",
       "      <td>0</td>\n",
       "      <td>0</td>\n",
       "      <td>0</td>\n",
       "    </tr>\n",
       "    <tr>\n",
       "      <th>584097</th>\n",
       "      <td>623</td>\n",
       "      <td>5</td>\n",
       "      <td>2014-01-24</td>\n",
       "      <td>0</td>\n",
       "      <td>0</td>\n",
       "      <td>1</td>\n",
       "      <td>1</td>\n",
       "      <td>0</td>\n",
       "      <td>0</td>\n",
       "    </tr>\n",
       "    <tr>\n",
       "      <th>591147</th>\n",
       "      <td>983</td>\n",
       "      <td>6</td>\n",
       "      <td>2014-01-18</td>\n",
       "      <td>0</td>\n",
       "      <td>0</td>\n",
       "      <td>1</td>\n",
       "      <td>0</td>\n",
       "      <td>0</td>\n",
       "      <td>0</td>\n",
       "    </tr>\n",
       "    <tr>\n",
       "      <th>592262</th>\n",
       "      <td>983</td>\n",
       "      <td>5</td>\n",
       "      <td>2014-01-17</td>\n",
       "      <td>0</td>\n",
       "      <td>0</td>\n",
       "      <td>1</td>\n",
       "      <td>0</td>\n",
       "      <td>0</td>\n",
       "      <td>0</td>\n",
       "    </tr>\n",
       "    <tr>\n",
       "      <th>744697</th>\n",
       "      <td>663</td>\n",
       "      <td>1</td>\n",
       "      <td>2013-09-02</td>\n",
       "      <td>0</td>\n",
       "      <td>0</td>\n",
       "      <td>1</td>\n",
       "      <td>0</td>\n",
       "      <td>0</td>\n",
       "      <td>1</td>\n",
       "    </tr>\n",
       "    <tr>\n",
       "      <th>750000</th>\n",
       "      <td>391</td>\n",
       "      <td>3</td>\n",
       "      <td>2013-08-28</td>\n",
       "      <td>0</td>\n",
       "      <td>0</td>\n",
       "      <td>1</td>\n",
       "      <td>1</td>\n",
       "      <td>0</td>\n",
       "      <td>1</td>\n",
       "    </tr>\n",
       "    <tr>\n",
       "      <th>772836</th>\n",
       "      <td>927</td>\n",
       "      <td>4</td>\n",
       "      <td>2013-08-08</td>\n",
       "      <td>0</td>\n",
       "      <td>0</td>\n",
       "      <td>1</td>\n",
       "      <td>0</td>\n",
       "      <td>0</td>\n",
       "      <td>1</td>\n",
       "    </tr>\n",
       "    <tr>\n",
       "      <th>805283</th>\n",
       "      <td>1039</td>\n",
       "      <td>3</td>\n",
       "      <td>2013-07-10</td>\n",
       "      <td>0</td>\n",
       "      <td>0</td>\n",
       "      <td>1</td>\n",
       "      <td>0</td>\n",
       "      <td>0</td>\n",
       "      <td>0</td>\n",
       "    </tr>\n",
       "    <tr>\n",
       "      <th>806398</th>\n",
       "      <td>1039</td>\n",
       "      <td>2</td>\n",
       "      <td>2013-07-09</td>\n",
       "      <td>0</td>\n",
       "      <td>0</td>\n",
       "      <td>1</td>\n",
       "      <td>0</td>\n",
       "      <td>0</td>\n",
       "      <td>0</td>\n",
       "    </tr>\n",
       "    <tr>\n",
       "      <th>817174</th>\n",
       "      <td>665</td>\n",
       "      <td>6</td>\n",
       "      <td>2013-06-29</td>\n",
       "      <td>0</td>\n",
       "      <td>0</td>\n",
       "      <td>1</td>\n",
       "      <td>0</td>\n",
       "      <td>0</td>\n",
       "      <td>0</td>\n",
       "    </tr>\n",
       "    <tr>\n",
       "      <th>818289</th>\n",
       "      <td>665</td>\n",
       "      <td>5</td>\n",
       "      <td>2013-06-28</td>\n",
       "      <td>0</td>\n",
       "      <td>0</td>\n",
       "      <td>1</td>\n",
       "      <td>0</td>\n",
       "      <td>0</td>\n",
       "      <td>0</td>\n",
       "    </tr>\n",
       "    <tr>\n",
       "      <th>843969</th>\n",
       "      <td>700</td>\n",
       "      <td>3</td>\n",
       "      <td>2013-06-05</td>\n",
       "      <td>0</td>\n",
       "      <td>0</td>\n",
       "      <td>1</td>\n",
       "      <td>1</td>\n",
       "      <td>0</td>\n",
       "      <td>0</td>\n",
       "    </tr>\n",
       "    <tr>\n",
       "      <th>872940</th>\n",
       "      <td>681</td>\n",
       "      <td>5</td>\n",
       "      <td>2013-05-10</td>\n",
       "      <td>0</td>\n",
       "      <td>0</td>\n",
       "      <td>1</td>\n",
       "      <td>0</td>\n",
       "      <td>0</td>\n",
       "      <td>0</td>\n",
       "    </tr>\n",
       "    <tr>\n",
       "      <th>874853</th>\n",
       "      <td>364</td>\n",
       "      <td>3</td>\n",
       "      <td>2013-05-08</td>\n",
       "      <td>0</td>\n",
       "      <td>0</td>\n",
       "      <td>1</td>\n",
       "      <td>0</td>\n",
       "      <td>0</td>\n",
       "      <td>0</td>\n",
       "    </tr>\n",
       "    <tr>\n",
       "      <th>875968</th>\n",
       "      <td>364</td>\n",
       "      <td>2</td>\n",
       "      <td>2013-05-07</td>\n",
       "      <td>0</td>\n",
       "      <td>0</td>\n",
       "      <td>1</td>\n",
       "      <td>0</td>\n",
       "      <td>0</td>\n",
       "      <td>0</td>\n",
       "    </tr>\n",
       "    <tr>\n",
       "      <th>885113</th>\n",
       "      <td>589</td>\n",
       "      <td>1</td>\n",
       "      <td>2013-04-29</td>\n",
       "      <td>0</td>\n",
       "      <td>0</td>\n",
       "      <td>1</td>\n",
       "      <td>1</td>\n",
       "      <td>0</td>\n",
       "      <td>0</td>\n",
       "    </tr>\n",
       "    <tr>\n",
       "      <th>933937</th>\n",
       "      <td>353</td>\n",
       "      <td>6</td>\n",
       "      <td>2013-03-16</td>\n",
       "      <td>0</td>\n",
       "      <td>0</td>\n",
       "      <td>1</td>\n",
       "      <td>0</td>\n",
       "      <td>0</td>\n",
       "      <td>0</td>\n",
       "    </tr>\n",
       "    <tr>\n",
       "      <th>975098</th>\n",
       "      <td>259</td>\n",
       "      <td>4</td>\n",
       "      <td>2013-02-07</td>\n",
       "      <td>0</td>\n",
       "      <td>0</td>\n",
       "      <td>1</td>\n",
       "      <td>1</td>\n",
       "      <td>0</td>\n",
       "      <td>0</td>\n",
       "    </tr>\n",
       "    <tr>\n",
       "      <th>982983</th>\n",
       "      <td>339</td>\n",
       "      <td>4</td>\n",
       "      <td>2013-01-31</td>\n",
       "      <td>0</td>\n",
       "      <td>0</td>\n",
       "      <td>1</td>\n",
       "      <td>0</td>\n",
       "      <td>0</td>\n",
       "      <td>0</td>\n",
       "    </tr>\n",
       "    <tr>\n",
       "      <th>984098</th>\n",
       "      <td>339</td>\n",
       "      <td>3</td>\n",
       "      <td>2013-01-30</td>\n",
       "      <td>0</td>\n",
       "      <td>0</td>\n",
       "      <td>1</td>\n",
       "      <td>0</td>\n",
       "      <td>0</td>\n",
       "      <td>0</td>\n",
       "    </tr>\n",
       "    <tr>\n",
       "      <th>990681</th>\n",
       "      <td>232</td>\n",
       "      <td>4</td>\n",
       "      <td>2013-01-24</td>\n",
       "      <td>0</td>\n",
       "      <td>0</td>\n",
       "      <td>1</td>\n",
       "      <td>1</td>\n",
       "      <td>0</td>\n",
       "      <td>0</td>\n",
       "    </tr>\n",
       "    <tr>\n",
       "      <th>999016</th>\n",
       "      <td>762</td>\n",
       "      <td>4</td>\n",
       "      <td>2013-01-17</td>\n",
       "      <td>0</td>\n",
       "      <td>0</td>\n",
       "      <td>1</td>\n",
       "      <td>0</td>\n",
       "      <td>0</td>\n",
       "      <td>0</td>\n",
       "    </tr>\n",
       "  </tbody>\n",
       "</table>\n",
       "</div>"
      ],
      "text/plain": [
       "        Store  DayOfWeek        Date  Sales  Customers  Open  Promo  \\\n",
       "86825     971          5  2015-05-15      0          0     1      0   \n",
       "142278    674          4  2015-03-26      0          0     1      0   \n",
       "196938    699          4  2015-02-05      0          0     1      1   \n",
       "322053    708          3  2014-10-01      0          0     1      1   \n",
       "330176    357          1  2014-09-22      0          0     1      0   \n",
       "340348    227          4  2014-09-11      0          0     1      0   \n",
       "340860    835          4  2014-09-11      0          0     1      0   \n",
       "341795    835          3  2014-09-10      0          0     1      0   \n",
       "346232    548          5  2014-09-05      0          0     1      1   \n",
       "346734     28          4  2014-09-04      0          0     1      1   \n",
       "347669     28          3  2014-09-03      0          0     1      1   \n",
       "348604     28          2  2014-09-02      0          0     1      1   \n",
       "386065    102          4  2014-07-24      0          0     1      0   \n",
       "386173    238          4  2014-07-24      0          0     1      0   \n",
       "386227    303          4  2014-07-24      0          0     1      0   \n",
       "386304    387          4  2014-07-24      0          0     1      0   \n",
       "387652    882          3  2014-07-23      0          0     1      0   \n",
       "387656    887          3  2014-07-23      0          0     1      0   \n",
       "397285    102          6  2014-07-12      0          0     1      0   \n",
       "406384    925          4  2014-07-03      0          0     1      1   \n",
       "407532     57          2  2014-07-01      0          0     1      1   \n",
       "437311   1017          4  2014-06-05      0          0     1      1   \n",
       "438426   1017          3  2014-06-04      0          0     1      1   \n",
       "477534   1100          3  2014-04-30      0          0     1      1   \n",
       "506085    661          5  2014-04-04      0          0     1      1   \n",
       "512964    850          6  2014-03-29      0          0     1      0   \n",
       "525365    986          2  2014-03-18      0          0     1      1   \n",
       "531396    327          3  2014-03-12      0          0     1      0   \n",
       "561199     25          4  2014-02-13      0          0     1      0   \n",
       "562314     25          3  2014-02-12      0          0     1      0   \n",
       "582982    623          6  2014-01-25      0          0     1      0   \n",
       "584097    623          5  2014-01-24      0          0     1      1   \n",
       "591147    983          6  2014-01-18      0          0     1      0   \n",
       "592262    983          5  2014-01-17      0          0     1      0   \n",
       "744697    663          1  2013-09-02      0          0     1      0   \n",
       "750000    391          3  2013-08-28      0          0     1      1   \n",
       "772836    927          4  2013-08-08      0          0     1      0   \n",
       "805283   1039          3  2013-07-10      0          0     1      0   \n",
       "806398   1039          2  2013-07-09      0          0     1      0   \n",
       "817174    665          6  2013-06-29      0          0     1      0   \n",
       "818289    665          5  2013-06-28      0          0     1      0   \n",
       "843969    700          3  2013-06-05      0          0     1      1   \n",
       "872940    681          5  2013-05-10      0          0     1      0   \n",
       "874853    364          3  2013-05-08      0          0     1      0   \n",
       "875968    364          2  2013-05-07      0          0     1      0   \n",
       "885113    589          1  2013-04-29      0          0     1      1   \n",
       "933937    353          6  2013-03-16      0          0     1      0   \n",
       "975098    259          4  2013-02-07      0          0     1      1   \n",
       "982983    339          4  2013-01-31      0          0     1      0   \n",
       "984098    339          3  2013-01-30      0          0     1      0   \n",
       "990681    232          4  2013-01-24      0          0     1      1   \n",
       "999016    762          4  2013-01-17      0          0     1      0   \n",
       "\n",
       "       StateHoliday  SchoolHoliday  \n",
       "86825             0              1  \n",
       "142278            0              0  \n",
       "196938            0              0  \n",
       "322053            0              0  \n",
       "330176            0              0  \n",
       "340348            0              0  \n",
       "340860            0              0  \n",
       "341795            0              0  \n",
       "346232            0              1  \n",
       "346734            0              0  \n",
       "347669            0              1  \n",
       "348604            0              1  \n",
       "386065            0              1  \n",
       "386173            0              1  \n",
       "386227            0              1  \n",
       "386304            0              1  \n",
       "387652            0              1  \n",
       "387656            0              0  \n",
       "397285            0              0  \n",
       "406384            0              0  \n",
       "407532            0              0  \n",
       "437311            0              0  \n",
       "438426            0              0  \n",
       "477534            0              0  \n",
       "506085            0              0  \n",
       "512964            0              0  \n",
       "525365            0              0  \n",
       "531396            0              0  \n",
       "561199            0              0  \n",
       "562314            0              0  \n",
       "582982            0              0  \n",
       "584097            0              0  \n",
       "591147            0              0  \n",
       "592262            0              0  \n",
       "744697            0              1  \n",
       "750000            0              1  \n",
       "772836            0              1  \n",
       "805283            0              0  \n",
       "806398            0              0  \n",
       "817174            0              0  \n",
       "818289            0              0  \n",
       "843969            0              0  \n",
       "872940            0              0  \n",
       "874853            0              0  \n",
       "875968            0              0  \n",
       "885113            0              0  \n",
       "933937            0              0  \n",
       "975098            0              0  \n",
       "982983            0              0  \n",
       "984098            0              0  \n",
       "990681            0              0  \n",
       "999016            0              0  "
      ]
     },
     "execution_count": 12,
     "metadata": {},
     "output_type": "execute_result"
    }
   ],
   "source": [
    "# YOUR CODE GOES HERE\n",
    "# Print the number of stores where Customers=0\n",
    "\n",
    "train_dataset[train_dataset.Customers == 0]\n",
    "\n"
   ]
  },
  {
   "cell_type": "markdown",
   "metadata": {},
   "source": [
    "###### Question 4"
   ]
  },
  {
   "cell_type": "code",
   "execution_count": 13,
   "metadata": {},
   "outputs": [
    {
     "data": {
      "text/html": [
       "<div>\n",
       "<style scoped>\n",
       "    .dataframe tbody tr th:only-of-type {\n",
       "        vertical-align: middle;\n",
       "    }\n",
       "\n",
       "    .dataframe tbody tr th {\n",
       "        vertical-align: top;\n",
       "    }\n",
       "\n",
       "    .dataframe thead th {\n",
       "        text-align: right;\n",
       "    }\n",
       "</style>\n",
       "<table border=\"1\" class=\"dataframe\">\n",
       "  <thead>\n",
       "    <tr style=\"text-align: right;\">\n",
       "      <th></th>\n",
       "      <th>Store</th>\n",
       "      <th>DayOfWeek</th>\n",
       "      <th>Date</th>\n",
       "      <th>Sales</th>\n",
       "      <th>Customers</th>\n",
       "      <th>Open</th>\n",
       "      <th>Promo</th>\n",
       "      <th>StateHoliday</th>\n",
       "      <th>SchoolHoliday</th>\n",
       "    </tr>\n",
       "  </thead>\n",
       "  <tbody>\n",
       "    <tr>\n",
       "      <th>86825</th>\n",
       "      <td>971</td>\n",
       "      <td>5</td>\n",
       "      <td>2015-05-15</td>\n",
       "      <td>0</td>\n",
       "      <td>0</td>\n",
       "      <td>1</td>\n",
       "      <td>0</td>\n",
       "      <td>0</td>\n",
       "      <td>1</td>\n",
       "    </tr>\n",
       "    <tr>\n",
       "      <th>142278</th>\n",
       "      <td>674</td>\n",
       "      <td>4</td>\n",
       "      <td>2015-03-26</td>\n",
       "      <td>0</td>\n",
       "      <td>0</td>\n",
       "      <td>1</td>\n",
       "      <td>0</td>\n",
       "      <td>0</td>\n",
       "      <td>0</td>\n",
       "    </tr>\n",
       "    <tr>\n",
       "      <th>196938</th>\n",
       "      <td>699</td>\n",
       "      <td>4</td>\n",
       "      <td>2015-02-05</td>\n",
       "      <td>0</td>\n",
       "      <td>0</td>\n",
       "      <td>1</td>\n",
       "      <td>1</td>\n",
       "      <td>0</td>\n",
       "      <td>0</td>\n",
       "    </tr>\n",
       "    <tr>\n",
       "      <th>322053</th>\n",
       "      <td>708</td>\n",
       "      <td>3</td>\n",
       "      <td>2014-10-01</td>\n",
       "      <td>0</td>\n",
       "      <td>0</td>\n",
       "      <td>1</td>\n",
       "      <td>1</td>\n",
       "      <td>0</td>\n",
       "      <td>0</td>\n",
       "    </tr>\n",
       "    <tr>\n",
       "      <th>330176</th>\n",
       "      <td>357</td>\n",
       "      <td>1</td>\n",
       "      <td>2014-09-22</td>\n",
       "      <td>0</td>\n",
       "      <td>0</td>\n",
       "      <td>1</td>\n",
       "      <td>0</td>\n",
       "      <td>0</td>\n",
       "      <td>0</td>\n",
       "    </tr>\n",
       "    <tr>\n",
       "      <th>340348</th>\n",
       "      <td>227</td>\n",
       "      <td>4</td>\n",
       "      <td>2014-09-11</td>\n",
       "      <td>0</td>\n",
       "      <td>0</td>\n",
       "      <td>1</td>\n",
       "      <td>0</td>\n",
       "      <td>0</td>\n",
       "      <td>0</td>\n",
       "    </tr>\n",
       "    <tr>\n",
       "      <th>340860</th>\n",
       "      <td>835</td>\n",
       "      <td>4</td>\n",
       "      <td>2014-09-11</td>\n",
       "      <td>0</td>\n",
       "      <td>0</td>\n",
       "      <td>1</td>\n",
       "      <td>0</td>\n",
       "      <td>0</td>\n",
       "      <td>0</td>\n",
       "    </tr>\n",
       "    <tr>\n",
       "      <th>341795</th>\n",
       "      <td>835</td>\n",
       "      <td>3</td>\n",
       "      <td>2014-09-10</td>\n",
       "      <td>0</td>\n",
       "      <td>0</td>\n",
       "      <td>1</td>\n",
       "      <td>0</td>\n",
       "      <td>0</td>\n",
       "      <td>0</td>\n",
       "    </tr>\n",
       "    <tr>\n",
       "      <th>346232</th>\n",
       "      <td>548</td>\n",
       "      <td>5</td>\n",
       "      <td>2014-09-05</td>\n",
       "      <td>0</td>\n",
       "      <td>0</td>\n",
       "      <td>1</td>\n",
       "      <td>1</td>\n",
       "      <td>0</td>\n",
       "      <td>1</td>\n",
       "    </tr>\n",
       "    <tr>\n",
       "      <th>346734</th>\n",
       "      <td>28</td>\n",
       "      <td>4</td>\n",
       "      <td>2014-09-04</td>\n",
       "      <td>0</td>\n",
       "      <td>0</td>\n",
       "      <td>1</td>\n",
       "      <td>1</td>\n",
       "      <td>0</td>\n",
       "      <td>0</td>\n",
       "    </tr>\n",
       "    <tr>\n",
       "      <th>347669</th>\n",
       "      <td>28</td>\n",
       "      <td>3</td>\n",
       "      <td>2014-09-03</td>\n",
       "      <td>0</td>\n",
       "      <td>0</td>\n",
       "      <td>1</td>\n",
       "      <td>1</td>\n",
       "      <td>0</td>\n",
       "      <td>1</td>\n",
       "    </tr>\n",
       "    <tr>\n",
       "      <th>348604</th>\n",
       "      <td>28</td>\n",
       "      <td>2</td>\n",
       "      <td>2014-09-02</td>\n",
       "      <td>0</td>\n",
       "      <td>0</td>\n",
       "      <td>1</td>\n",
       "      <td>1</td>\n",
       "      <td>0</td>\n",
       "      <td>1</td>\n",
       "    </tr>\n",
       "    <tr>\n",
       "      <th>386065</th>\n",
       "      <td>102</td>\n",
       "      <td>4</td>\n",
       "      <td>2014-07-24</td>\n",
       "      <td>0</td>\n",
       "      <td>0</td>\n",
       "      <td>1</td>\n",
       "      <td>0</td>\n",
       "      <td>0</td>\n",
       "      <td>1</td>\n",
       "    </tr>\n",
       "    <tr>\n",
       "      <th>386173</th>\n",
       "      <td>238</td>\n",
       "      <td>4</td>\n",
       "      <td>2014-07-24</td>\n",
       "      <td>0</td>\n",
       "      <td>0</td>\n",
       "      <td>1</td>\n",
       "      <td>0</td>\n",
       "      <td>0</td>\n",
       "      <td>1</td>\n",
       "    </tr>\n",
       "    <tr>\n",
       "      <th>386227</th>\n",
       "      <td>303</td>\n",
       "      <td>4</td>\n",
       "      <td>2014-07-24</td>\n",
       "      <td>0</td>\n",
       "      <td>0</td>\n",
       "      <td>1</td>\n",
       "      <td>0</td>\n",
       "      <td>0</td>\n",
       "      <td>1</td>\n",
       "    </tr>\n",
       "    <tr>\n",
       "      <th>386304</th>\n",
       "      <td>387</td>\n",
       "      <td>4</td>\n",
       "      <td>2014-07-24</td>\n",
       "      <td>0</td>\n",
       "      <td>0</td>\n",
       "      <td>1</td>\n",
       "      <td>0</td>\n",
       "      <td>0</td>\n",
       "      <td>1</td>\n",
       "    </tr>\n",
       "    <tr>\n",
       "      <th>387652</th>\n",
       "      <td>882</td>\n",
       "      <td>3</td>\n",
       "      <td>2014-07-23</td>\n",
       "      <td>0</td>\n",
       "      <td>0</td>\n",
       "      <td>1</td>\n",
       "      <td>0</td>\n",
       "      <td>0</td>\n",
       "      <td>1</td>\n",
       "    </tr>\n",
       "    <tr>\n",
       "      <th>387656</th>\n",
       "      <td>887</td>\n",
       "      <td>3</td>\n",
       "      <td>2014-07-23</td>\n",
       "      <td>0</td>\n",
       "      <td>0</td>\n",
       "      <td>1</td>\n",
       "      <td>0</td>\n",
       "      <td>0</td>\n",
       "      <td>0</td>\n",
       "    </tr>\n",
       "    <tr>\n",
       "      <th>397285</th>\n",
       "      <td>102</td>\n",
       "      <td>6</td>\n",
       "      <td>2014-07-12</td>\n",
       "      <td>0</td>\n",
       "      <td>0</td>\n",
       "      <td>1</td>\n",
       "      <td>0</td>\n",
       "      <td>0</td>\n",
       "      <td>0</td>\n",
       "    </tr>\n",
       "    <tr>\n",
       "      <th>406384</th>\n",
       "      <td>925</td>\n",
       "      <td>4</td>\n",
       "      <td>2014-07-03</td>\n",
       "      <td>0</td>\n",
       "      <td>0</td>\n",
       "      <td>1</td>\n",
       "      <td>1</td>\n",
       "      <td>0</td>\n",
       "      <td>0</td>\n",
       "    </tr>\n",
       "    <tr>\n",
       "      <th>407532</th>\n",
       "      <td>57</td>\n",
       "      <td>2</td>\n",
       "      <td>2014-07-01</td>\n",
       "      <td>0</td>\n",
       "      <td>0</td>\n",
       "      <td>1</td>\n",
       "      <td>1</td>\n",
       "      <td>0</td>\n",
       "      <td>0</td>\n",
       "    </tr>\n",
       "    <tr>\n",
       "      <th>437311</th>\n",
       "      <td>1017</td>\n",
       "      <td>4</td>\n",
       "      <td>2014-06-05</td>\n",
       "      <td>0</td>\n",
       "      <td>0</td>\n",
       "      <td>1</td>\n",
       "      <td>1</td>\n",
       "      <td>0</td>\n",
       "      <td>0</td>\n",
       "    </tr>\n",
       "    <tr>\n",
       "      <th>438426</th>\n",
       "      <td>1017</td>\n",
       "      <td>3</td>\n",
       "      <td>2014-06-04</td>\n",
       "      <td>0</td>\n",
       "      <td>0</td>\n",
       "      <td>1</td>\n",
       "      <td>1</td>\n",
       "      <td>0</td>\n",
       "      <td>0</td>\n",
       "    </tr>\n",
       "    <tr>\n",
       "      <th>477534</th>\n",
       "      <td>1100</td>\n",
       "      <td>3</td>\n",
       "      <td>2014-04-30</td>\n",
       "      <td>0</td>\n",
       "      <td>0</td>\n",
       "      <td>1</td>\n",
       "      <td>1</td>\n",
       "      <td>0</td>\n",
       "      <td>0</td>\n",
       "    </tr>\n",
       "    <tr>\n",
       "      <th>478649</th>\n",
       "      <td>1100</td>\n",
       "      <td>2</td>\n",
       "      <td>2014-04-29</td>\n",
       "      <td>0</td>\n",
       "      <td>3</td>\n",
       "      <td>1</td>\n",
       "      <td>1</td>\n",
       "      <td>0</td>\n",
       "      <td>0</td>\n",
       "    </tr>\n",
       "    <tr>\n",
       "      <th>506085</th>\n",
       "      <td>661</td>\n",
       "      <td>5</td>\n",
       "      <td>2014-04-04</td>\n",
       "      <td>0</td>\n",
       "      <td>0</td>\n",
       "      <td>1</td>\n",
       "      <td>1</td>\n",
       "      <td>0</td>\n",
       "      <td>0</td>\n",
       "    </tr>\n",
       "    <tr>\n",
       "      <th>512964</th>\n",
       "      <td>850</td>\n",
       "      <td>6</td>\n",
       "      <td>2014-03-29</td>\n",
       "      <td>0</td>\n",
       "      <td>0</td>\n",
       "      <td>1</td>\n",
       "      <td>0</td>\n",
       "      <td>0</td>\n",
       "      <td>0</td>\n",
       "    </tr>\n",
       "    <tr>\n",
       "      <th>525365</th>\n",
       "      <td>986</td>\n",
       "      <td>2</td>\n",
       "      <td>2014-03-18</td>\n",
       "      <td>0</td>\n",
       "      <td>0</td>\n",
       "      <td>1</td>\n",
       "      <td>1</td>\n",
       "      <td>0</td>\n",
       "      <td>0</td>\n",
       "    </tr>\n",
       "    <tr>\n",
       "      <th>531396</th>\n",
       "      <td>327</td>\n",
       "      <td>3</td>\n",
       "      <td>2014-03-12</td>\n",
       "      <td>0</td>\n",
       "      <td>0</td>\n",
       "      <td>1</td>\n",
       "      <td>0</td>\n",
       "      <td>0</td>\n",
       "      <td>0</td>\n",
       "    </tr>\n",
       "    <tr>\n",
       "      <th>561199</th>\n",
       "      <td>25</td>\n",
       "      <td>4</td>\n",
       "      <td>2014-02-13</td>\n",
       "      <td>0</td>\n",
       "      <td>0</td>\n",
       "      <td>1</td>\n",
       "      <td>0</td>\n",
       "      <td>0</td>\n",
       "      <td>0</td>\n",
       "    </tr>\n",
       "    <tr>\n",
       "      <th>562314</th>\n",
       "      <td>25</td>\n",
       "      <td>3</td>\n",
       "      <td>2014-02-12</td>\n",
       "      <td>0</td>\n",
       "      <td>0</td>\n",
       "      <td>1</td>\n",
       "      <td>0</td>\n",
       "      <td>0</td>\n",
       "      <td>0</td>\n",
       "    </tr>\n",
       "    <tr>\n",
       "      <th>582982</th>\n",
       "      <td>623</td>\n",
       "      <td>6</td>\n",
       "      <td>2014-01-25</td>\n",
       "      <td>0</td>\n",
       "      <td>0</td>\n",
       "      <td>1</td>\n",
       "      <td>0</td>\n",
       "      <td>0</td>\n",
       "      <td>0</td>\n",
       "    </tr>\n",
       "    <tr>\n",
       "      <th>584097</th>\n",
       "      <td>623</td>\n",
       "      <td>5</td>\n",
       "      <td>2014-01-24</td>\n",
       "      <td>0</td>\n",
       "      <td>0</td>\n",
       "      <td>1</td>\n",
       "      <td>1</td>\n",
       "      <td>0</td>\n",
       "      <td>0</td>\n",
       "    </tr>\n",
       "    <tr>\n",
       "      <th>591147</th>\n",
       "      <td>983</td>\n",
       "      <td>6</td>\n",
       "      <td>2014-01-18</td>\n",
       "      <td>0</td>\n",
       "      <td>0</td>\n",
       "      <td>1</td>\n",
       "      <td>0</td>\n",
       "      <td>0</td>\n",
       "      <td>0</td>\n",
       "    </tr>\n",
       "    <tr>\n",
       "      <th>592262</th>\n",
       "      <td>983</td>\n",
       "      <td>5</td>\n",
       "      <td>2014-01-17</td>\n",
       "      <td>0</td>\n",
       "      <td>0</td>\n",
       "      <td>1</td>\n",
       "      <td>0</td>\n",
       "      <td>0</td>\n",
       "      <td>0</td>\n",
       "    </tr>\n",
       "    <tr>\n",
       "      <th>744697</th>\n",
       "      <td>663</td>\n",
       "      <td>1</td>\n",
       "      <td>2013-09-02</td>\n",
       "      <td>0</td>\n",
       "      <td>0</td>\n",
       "      <td>1</td>\n",
       "      <td>0</td>\n",
       "      <td>0</td>\n",
       "      <td>1</td>\n",
       "    </tr>\n",
       "    <tr>\n",
       "      <th>750000</th>\n",
       "      <td>391</td>\n",
       "      <td>3</td>\n",
       "      <td>2013-08-28</td>\n",
       "      <td>0</td>\n",
       "      <td>0</td>\n",
       "      <td>1</td>\n",
       "      <td>1</td>\n",
       "      <td>0</td>\n",
       "      <td>1</td>\n",
       "    </tr>\n",
       "    <tr>\n",
       "      <th>772836</th>\n",
       "      <td>927</td>\n",
       "      <td>4</td>\n",
       "      <td>2013-08-08</td>\n",
       "      <td>0</td>\n",
       "      <td>0</td>\n",
       "      <td>1</td>\n",
       "      <td>0</td>\n",
       "      <td>0</td>\n",
       "      <td>1</td>\n",
       "    </tr>\n",
       "    <tr>\n",
       "      <th>805283</th>\n",
       "      <td>1039</td>\n",
       "      <td>3</td>\n",
       "      <td>2013-07-10</td>\n",
       "      <td>0</td>\n",
       "      <td>0</td>\n",
       "      <td>1</td>\n",
       "      <td>0</td>\n",
       "      <td>0</td>\n",
       "      <td>0</td>\n",
       "    </tr>\n",
       "    <tr>\n",
       "      <th>806398</th>\n",
       "      <td>1039</td>\n",
       "      <td>2</td>\n",
       "      <td>2013-07-09</td>\n",
       "      <td>0</td>\n",
       "      <td>0</td>\n",
       "      <td>1</td>\n",
       "      <td>0</td>\n",
       "      <td>0</td>\n",
       "      <td>0</td>\n",
       "    </tr>\n",
       "    <tr>\n",
       "      <th>817174</th>\n",
       "      <td>665</td>\n",
       "      <td>6</td>\n",
       "      <td>2013-06-29</td>\n",
       "      <td>0</td>\n",
       "      <td>0</td>\n",
       "      <td>1</td>\n",
       "      <td>0</td>\n",
       "      <td>0</td>\n",
       "      <td>0</td>\n",
       "    </tr>\n",
       "    <tr>\n",
       "      <th>818289</th>\n",
       "      <td>665</td>\n",
       "      <td>5</td>\n",
       "      <td>2013-06-28</td>\n",
       "      <td>0</td>\n",
       "      <td>0</td>\n",
       "      <td>1</td>\n",
       "      <td>0</td>\n",
       "      <td>0</td>\n",
       "      <td>0</td>\n",
       "    </tr>\n",
       "    <tr>\n",
       "      <th>843969</th>\n",
       "      <td>700</td>\n",
       "      <td>3</td>\n",
       "      <td>2013-06-05</td>\n",
       "      <td>0</td>\n",
       "      <td>0</td>\n",
       "      <td>1</td>\n",
       "      <td>1</td>\n",
       "      <td>0</td>\n",
       "      <td>0</td>\n",
       "    </tr>\n",
       "    <tr>\n",
       "      <th>872940</th>\n",
       "      <td>681</td>\n",
       "      <td>5</td>\n",
       "      <td>2013-05-10</td>\n",
       "      <td>0</td>\n",
       "      <td>0</td>\n",
       "      <td>1</td>\n",
       "      <td>0</td>\n",
       "      <td>0</td>\n",
       "      <td>0</td>\n",
       "    </tr>\n",
       "    <tr>\n",
       "      <th>874853</th>\n",
       "      <td>364</td>\n",
       "      <td>3</td>\n",
       "      <td>2013-05-08</td>\n",
       "      <td>0</td>\n",
       "      <td>0</td>\n",
       "      <td>1</td>\n",
       "      <td>0</td>\n",
       "      <td>0</td>\n",
       "      <td>0</td>\n",
       "    </tr>\n",
       "    <tr>\n",
       "      <th>875968</th>\n",
       "      <td>364</td>\n",
       "      <td>2</td>\n",
       "      <td>2013-05-07</td>\n",
       "      <td>0</td>\n",
       "      <td>0</td>\n",
       "      <td>1</td>\n",
       "      <td>0</td>\n",
       "      <td>0</td>\n",
       "      <td>0</td>\n",
       "    </tr>\n",
       "    <tr>\n",
       "      <th>885113</th>\n",
       "      <td>589</td>\n",
       "      <td>1</td>\n",
       "      <td>2013-04-29</td>\n",
       "      <td>0</td>\n",
       "      <td>0</td>\n",
       "      <td>1</td>\n",
       "      <td>1</td>\n",
       "      <td>0</td>\n",
       "      <td>0</td>\n",
       "    </tr>\n",
       "    <tr>\n",
       "      <th>889932</th>\n",
       "      <td>948</td>\n",
       "      <td>4</td>\n",
       "      <td>2013-04-25</td>\n",
       "      <td>0</td>\n",
       "      <td>5</td>\n",
       "      <td>1</td>\n",
       "      <td>1</td>\n",
       "      <td>0</td>\n",
       "      <td>0</td>\n",
       "    </tr>\n",
       "    <tr>\n",
       "      <th>933937</th>\n",
       "      <td>353</td>\n",
       "      <td>6</td>\n",
       "      <td>2013-03-16</td>\n",
       "      <td>0</td>\n",
       "      <td>0</td>\n",
       "      <td>1</td>\n",
       "      <td>0</td>\n",
       "      <td>0</td>\n",
       "      <td>0</td>\n",
       "    </tr>\n",
       "    <tr>\n",
       "      <th>975098</th>\n",
       "      <td>259</td>\n",
       "      <td>4</td>\n",
       "      <td>2013-02-07</td>\n",
       "      <td>0</td>\n",
       "      <td>0</td>\n",
       "      <td>1</td>\n",
       "      <td>1</td>\n",
       "      <td>0</td>\n",
       "      <td>0</td>\n",
       "    </tr>\n",
       "    <tr>\n",
       "      <th>982983</th>\n",
       "      <td>339</td>\n",
       "      <td>4</td>\n",
       "      <td>2013-01-31</td>\n",
       "      <td>0</td>\n",
       "      <td>0</td>\n",
       "      <td>1</td>\n",
       "      <td>0</td>\n",
       "      <td>0</td>\n",
       "      <td>0</td>\n",
       "    </tr>\n",
       "    <tr>\n",
       "      <th>984098</th>\n",
       "      <td>339</td>\n",
       "      <td>3</td>\n",
       "      <td>2013-01-30</td>\n",
       "      <td>0</td>\n",
       "      <td>0</td>\n",
       "      <td>1</td>\n",
       "      <td>0</td>\n",
       "      <td>0</td>\n",
       "      <td>0</td>\n",
       "    </tr>\n",
       "    <tr>\n",
       "      <th>990681</th>\n",
       "      <td>232</td>\n",
       "      <td>4</td>\n",
       "      <td>2013-01-24</td>\n",
       "      <td>0</td>\n",
       "      <td>0</td>\n",
       "      <td>1</td>\n",
       "      <td>1</td>\n",
       "      <td>0</td>\n",
       "      <td>0</td>\n",
       "    </tr>\n",
       "    <tr>\n",
       "      <th>999016</th>\n",
       "      <td>762</td>\n",
       "      <td>4</td>\n",
       "      <td>2013-01-17</td>\n",
       "      <td>0</td>\n",
       "      <td>0</td>\n",
       "      <td>1</td>\n",
       "      <td>0</td>\n",
       "      <td>0</td>\n",
       "      <td>0</td>\n",
       "    </tr>\n",
       "  </tbody>\n",
       "</table>\n",
       "</div>"
      ],
      "text/plain": [
       "        Store  DayOfWeek        Date  Sales  Customers  Open  Promo  \\\n",
       "86825     971          5  2015-05-15      0          0     1      0   \n",
       "142278    674          4  2015-03-26      0          0     1      0   \n",
       "196938    699          4  2015-02-05      0          0     1      1   \n",
       "322053    708          3  2014-10-01      0          0     1      1   \n",
       "330176    357          1  2014-09-22      0          0     1      0   \n",
       "340348    227          4  2014-09-11      0          0     1      0   \n",
       "340860    835          4  2014-09-11      0          0     1      0   \n",
       "341795    835          3  2014-09-10      0          0     1      0   \n",
       "346232    548          5  2014-09-05      0          0     1      1   \n",
       "346734     28          4  2014-09-04      0          0     1      1   \n",
       "347669     28          3  2014-09-03      0          0     1      1   \n",
       "348604     28          2  2014-09-02      0          0     1      1   \n",
       "386065    102          4  2014-07-24      0          0     1      0   \n",
       "386173    238          4  2014-07-24      0          0     1      0   \n",
       "386227    303          4  2014-07-24      0          0     1      0   \n",
       "386304    387          4  2014-07-24      0          0     1      0   \n",
       "387652    882          3  2014-07-23      0          0     1      0   \n",
       "387656    887          3  2014-07-23      0          0     1      0   \n",
       "397285    102          6  2014-07-12      0          0     1      0   \n",
       "406384    925          4  2014-07-03      0          0     1      1   \n",
       "407532     57          2  2014-07-01      0          0     1      1   \n",
       "437311   1017          4  2014-06-05      0          0     1      1   \n",
       "438426   1017          3  2014-06-04      0          0     1      1   \n",
       "477534   1100          3  2014-04-30      0          0     1      1   \n",
       "478649   1100          2  2014-04-29      0          3     1      1   \n",
       "506085    661          5  2014-04-04      0          0     1      1   \n",
       "512964    850          6  2014-03-29      0          0     1      0   \n",
       "525365    986          2  2014-03-18      0          0     1      1   \n",
       "531396    327          3  2014-03-12      0          0     1      0   \n",
       "561199     25          4  2014-02-13      0          0     1      0   \n",
       "562314     25          3  2014-02-12      0          0     1      0   \n",
       "582982    623          6  2014-01-25      0          0     1      0   \n",
       "584097    623          5  2014-01-24      0          0     1      1   \n",
       "591147    983          6  2014-01-18      0          0     1      0   \n",
       "592262    983          5  2014-01-17      0          0     1      0   \n",
       "744697    663          1  2013-09-02      0          0     1      0   \n",
       "750000    391          3  2013-08-28      0          0     1      1   \n",
       "772836    927          4  2013-08-08      0          0     1      0   \n",
       "805283   1039          3  2013-07-10      0          0     1      0   \n",
       "806398   1039          2  2013-07-09      0          0     1      0   \n",
       "817174    665          6  2013-06-29      0          0     1      0   \n",
       "818289    665          5  2013-06-28      0          0     1      0   \n",
       "843969    700          3  2013-06-05      0          0     1      1   \n",
       "872940    681          5  2013-05-10      0          0     1      0   \n",
       "874853    364          3  2013-05-08      0          0     1      0   \n",
       "875968    364          2  2013-05-07      0          0     1      0   \n",
       "885113    589          1  2013-04-29      0          0     1      1   \n",
       "889932    948          4  2013-04-25      0          5     1      1   \n",
       "933937    353          6  2013-03-16      0          0     1      0   \n",
       "975098    259          4  2013-02-07      0          0     1      1   \n",
       "982983    339          4  2013-01-31      0          0     1      0   \n",
       "984098    339          3  2013-01-30      0          0     1      0   \n",
       "990681    232          4  2013-01-24      0          0     1      1   \n",
       "999016    762          4  2013-01-17      0          0     1      0   \n",
       "\n",
       "       StateHoliday  SchoolHoliday  \n",
       "86825             0              1  \n",
       "142278            0              0  \n",
       "196938            0              0  \n",
       "322053            0              0  \n",
       "330176            0              0  \n",
       "340348            0              0  \n",
       "340860            0              0  \n",
       "341795            0              0  \n",
       "346232            0              1  \n",
       "346734            0              0  \n",
       "347669            0              1  \n",
       "348604            0              1  \n",
       "386065            0              1  \n",
       "386173            0              1  \n",
       "386227            0              1  \n",
       "386304            0              1  \n",
       "387652            0              1  \n",
       "387656            0              0  \n",
       "397285            0              0  \n",
       "406384            0              0  \n",
       "407532            0              0  \n",
       "437311            0              0  \n",
       "438426            0              0  \n",
       "477534            0              0  \n",
       "478649            0              0  \n",
       "506085            0              0  \n",
       "512964            0              0  \n",
       "525365            0              0  \n",
       "531396            0              0  \n",
       "561199            0              0  \n",
       "562314            0              0  \n",
       "582982            0              0  \n",
       "584097            0              0  \n",
       "591147            0              0  \n",
       "592262            0              0  \n",
       "744697            0              1  \n",
       "750000            0              1  \n",
       "772836            0              1  \n",
       "805283            0              0  \n",
       "806398            0              0  \n",
       "817174            0              0  \n",
       "818289            0              0  \n",
       "843969            0              0  \n",
       "872940            0              0  \n",
       "874853            0              0  \n",
       "875968            0              0  \n",
       "885113            0              0  \n",
       "889932            0              0  \n",
       "933937            0              0  \n",
       "975098            0              0  \n",
       "982983            0              0  \n",
       "984098            0              0  \n",
       "990681            0              0  \n",
       "999016            0              0  "
      ]
     },
     "execution_count": 13,
     "metadata": {},
     "output_type": "execute_result"
    }
   ],
   "source": [
    "# YOUR CODE GOES HERE\n",
    "# Print the number of stores where Sales=0\n",
    "\n",
    "train_dataset[train_dataset.Sales == 0]\n"
   ]
  },
  {
   "cell_type": "markdown",
   "metadata": {},
   "source": [
    "Let us check for missing values in `train_dataset` and `stores`"
   ]
  },
  {
   "cell_type": "code",
   "execution_count": 14,
   "metadata": {},
   "outputs": [
    {
     "name": "stdout",
     "output_type": "stream",
     "text": [
      "Store            0\n",
      "DayOfWeek        0\n",
      "Date             0\n",
      "Sales            0\n",
      "Customers        0\n",
      "Open             0\n",
      "Promo            0\n",
      "StateHoliday     0\n",
      "SchoolHoliday    0\n",
      "dtype: int64 \n",
      "\n",
      "Store                          0\n",
      "StoreType                      0\n",
      "Assortment                     0\n",
      "CompetitionDistance            3\n",
      "CompetitionOpenSinceMonth    354\n",
      "CompetitionOpenSinceYear     354\n",
      "Promo2                         0\n",
      "Promo2SinceWeek              544\n",
      "Promo2SinceYear              544\n",
      "PromoInterval                544\n",
      "dtype: int64\n"
     ]
    }
   ],
   "source": [
    "print(train_dataset.isnull().sum(),'\\n')\n",
    "print(stores.isnull().sum())"
   ]
  },
  {
   "cell_type": "markdown",
   "metadata": {},
   "source": [
    "Drop unuseful columns:\n",
    "- in `train_dataset`: `Open` is unuseful because it is consisted of all 1's (we dropped the observations with Open = 0 earlier).\n",
    "- in `stores`: `CompetitionOpenSinceMonth`, `CompetitionOpenSinceYear`, `Promo2SinceWeek`, `Promo2SinceYear`, `PromoInterval` because they have too many missing values."
   ]
  },
  {
   "cell_type": "code",
   "execution_count": 15,
   "metadata": {},
   "outputs": [],
   "source": [
    "train_dataset.drop(['Open'], axis=1, inplace=True)\n",
    "stores.drop(['CompetitionOpenSinceMonth', \n",
    "             'CompetitionOpenSinceYear', \n",
    "             'Promo2SinceWeek',\n",
    "             'Promo2SinceYear',\n",
    "             'PromoInterval'], axis=1, inplace=True)"
   ]
  },
  {
   "cell_type": "markdown",
   "metadata": {},
   "source": [
    "Drop the 3 rows of `stores` where `CompetitionDistance` is missing:"
   ]
  },
  {
   "cell_type": "code",
   "execution_count": 16,
   "metadata": {},
   "outputs": [
    {
     "data": {
      "text/plain": [
       "(1112, 5)"
      ]
     },
     "execution_count": 16,
     "metadata": {},
     "output_type": "execute_result"
    }
   ],
   "source": [
    "stores.dropna(inplace=True)\n",
    "stores.shape"
   ]
  },
  {
   "cell_type": "markdown",
   "metadata": {},
   "source": [
    "### Joining the \"Train\" and \"Store\" tables "
   ]
  },
  {
   "cell_type": "markdown",
   "metadata": {},
   "source": [
    "###### Question 5"
   ]
  },
  {
   "cell_type": "code",
   "execution_count": 17,
   "metadata": {
    "scrolled": false
   },
   "outputs": [
    {
     "data": {
      "text/html": [
       "<div>\n",
       "<style scoped>\n",
       "    .dataframe tbody tr th:only-of-type {\n",
       "        vertical-align: middle;\n",
       "    }\n",
       "\n",
       "    .dataframe tbody tr th {\n",
       "        vertical-align: top;\n",
       "    }\n",
       "\n",
       "    .dataframe thead th {\n",
       "        text-align: right;\n",
       "    }\n",
       "</style>\n",
       "<table border=\"1\" class=\"dataframe\">\n",
       "  <thead>\n",
       "    <tr style=\"text-align: right;\">\n",
       "      <th></th>\n",
       "      <th>Store</th>\n",
       "      <th>DayOfWeek</th>\n",
       "      <th>Date</th>\n",
       "      <th>Sales</th>\n",
       "      <th>Customers</th>\n",
       "      <th>Promo</th>\n",
       "      <th>StateHoliday</th>\n",
       "      <th>SchoolHoliday</th>\n",
       "      <th>StoreType</th>\n",
       "      <th>Assortment</th>\n",
       "      <th>CompetitionDistance</th>\n",
       "      <th>Promo2</th>\n",
       "    </tr>\n",
       "  </thead>\n",
       "  <tbody>\n",
       "    <tr>\n",
       "      <th>0</th>\n",
       "      <td>1</td>\n",
       "      <td>5</td>\n",
       "      <td>2015-07-31</td>\n",
       "      <td>5263</td>\n",
       "      <td>555</td>\n",
       "      <td>1</td>\n",
       "      <td>0</td>\n",
       "      <td>1</td>\n",
       "      <td>c</td>\n",
       "      <td>a</td>\n",
       "      <td>1270.0</td>\n",
       "      <td>0.0</td>\n",
       "    </tr>\n",
       "    <tr>\n",
       "      <th>1</th>\n",
       "      <td>2</td>\n",
       "      <td>5</td>\n",
       "      <td>2015-07-31</td>\n",
       "      <td>6064</td>\n",
       "      <td>625</td>\n",
       "      <td>1</td>\n",
       "      <td>0</td>\n",
       "      <td>1</td>\n",
       "      <td>a</td>\n",
       "      <td>a</td>\n",
       "      <td>570.0</td>\n",
       "      <td>1.0</td>\n",
       "    </tr>\n",
       "    <tr>\n",
       "      <th>2</th>\n",
       "      <td>3</td>\n",
       "      <td>5</td>\n",
       "      <td>2015-07-31</td>\n",
       "      <td>8314</td>\n",
       "      <td>821</td>\n",
       "      <td>1</td>\n",
       "      <td>0</td>\n",
       "      <td>1</td>\n",
       "      <td>a</td>\n",
       "      <td>a</td>\n",
       "      <td>14130.0</td>\n",
       "      <td>1.0</td>\n",
       "    </tr>\n",
       "    <tr>\n",
       "      <th>3</th>\n",
       "      <td>4</td>\n",
       "      <td>5</td>\n",
       "      <td>2015-07-31</td>\n",
       "      <td>13995</td>\n",
       "      <td>1498</td>\n",
       "      <td>1</td>\n",
       "      <td>0</td>\n",
       "      <td>1</td>\n",
       "      <td>c</td>\n",
       "      <td>c</td>\n",
       "      <td>620.0</td>\n",
       "      <td>0.0</td>\n",
       "    </tr>\n",
       "    <tr>\n",
       "      <th>4</th>\n",
       "      <td>5</td>\n",
       "      <td>5</td>\n",
       "      <td>2015-07-31</td>\n",
       "      <td>4822</td>\n",
       "      <td>559</td>\n",
       "      <td>1</td>\n",
       "      <td>0</td>\n",
       "      <td>1</td>\n",
       "      <td>a</td>\n",
       "      <td>a</td>\n",
       "      <td>29910.0</td>\n",
       "      <td>0.0</td>\n",
       "    </tr>\n",
       "  </tbody>\n",
       "</table>\n",
       "</div>"
      ],
      "text/plain": [
       "   Store  DayOfWeek        Date  Sales  Customers  Promo StateHoliday  \\\n",
       "0      1          5  2015-07-31   5263        555      1            0   \n",
       "1      2          5  2015-07-31   6064        625      1            0   \n",
       "2      3          5  2015-07-31   8314        821      1            0   \n",
       "3      4          5  2015-07-31  13995       1498      1            0   \n",
       "4      5          5  2015-07-31   4822        559      1            0   \n",
       "\n",
       "   SchoolHoliday StoreType Assortment  CompetitionDistance  Promo2  \n",
       "0              1         c          a               1270.0     0.0  \n",
       "1              1         a          a                570.0     1.0  \n",
       "2              1         a          a              14130.0     1.0  \n",
       "3              1         c          c                620.0     0.0  \n",
       "4              1         a          a              29910.0     0.0  "
      ]
     },
     "execution_count": 17,
     "metadata": {},
     "output_type": "execute_result"
    }
   ],
   "source": [
    "# YOUR CODE\n",
    "# inner join `stores_encode` and `train_dataset_encode` on `Store`, and save the resulting df as `df_combined`.\n",
    "\n",
    "#.set_index('key')\n",
    "df_combined = train_dataset.join(stores.set_index('Store'), on='Store')\n",
    "df_combined.head()\n"
   ]
  },
  {
   "cell_type": "code",
   "execution_count": 18,
   "metadata": {},
   "outputs": [
    {
     "data": {
      "text/plain": [
       "(844392, 12)"
      ]
     },
     "execution_count": 18,
     "metadata": {},
     "output_type": "execute_result"
    }
   ],
   "source": [
    "df_combined.shape"
   ]
  },
  {
   "cell_type": "markdown",
   "metadata": {},
   "source": [
    "Check that the combined df has no missing values and that it has the proper one-hot encoded values"
   ]
  },
  {
   "cell_type": "code",
   "execution_count": 19,
   "metadata": {
    "scrolled": true
   },
   "outputs": [
    {
     "data": {
      "text/plain": [
       "Store                     0\n",
       "DayOfWeek                 0\n",
       "Date                      0\n",
       "Sales                     0\n",
       "Customers                 0\n",
       "Promo                     0\n",
       "StateHoliday              0\n",
       "SchoolHoliday             0\n",
       "StoreType              2186\n",
       "Assortment             2186\n",
       "CompetitionDistance    2186\n",
       "Promo2                 2186\n",
       "dtype: int64"
      ]
     },
     "execution_count": 19,
     "metadata": {},
     "output_type": "execute_result"
    }
   ],
   "source": [
    "df_combined.isnull().sum()"
   ]
  },
  {
   "cell_type": "code",
   "execution_count": 20,
   "metadata": {
    "scrolled": true
   },
   "outputs": [
    {
     "data": {
      "text/html": [
       "<div>\n",
       "<style scoped>\n",
       "    .dataframe tbody tr th:only-of-type {\n",
       "        vertical-align: middle;\n",
       "    }\n",
       "\n",
       "    .dataframe tbody tr th {\n",
       "        vertical-align: top;\n",
       "    }\n",
       "\n",
       "    .dataframe thead th {\n",
       "        text-align: right;\n",
       "    }\n",
       "</style>\n",
       "<table border=\"1\" class=\"dataframe\">\n",
       "  <thead>\n",
       "    <tr style=\"text-align: right;\">\n",
       "      <th></th>\n",
       "      <th>Store</th>\n",
       "      <th>DayOfWeek</th>\n",
       "      <th>Date</th>\n",
       "      <th>Sales</th>\n",
       "      <th>Customers</th>\n",
       "      <th>Promo</th>\n",
       "      <th>StateHoliday</th>\n",
       "      <th>SchoolHoliday</th>\n",
       "      <th>StoreType</th>\n",
       "      <th>Assortment</th>\n",
       "      <th>CompetitionDistance</th>\n",
       "      <th>Promo2</th>\n",
       "    </tr>\n",
       "  </thead>\n",
       "  <tbody>\n",
       "    <tr>\n",
       "      <th>290</th>\n",
       "      <td>291</td>\n",
       "      <td>5</td>\n",
       "      <td>2015-07-31</td>\n",
       "      <td>10052</td>\n",
       "      <td>973</td>\n",
       "      <td>1</td>\n",
       "      <td>0</td>\n",
       "      <td>1</td>\n",
       "      <td>NaN</td>\n",
       "      <td>NaN</td>\n",
       "      <td>NaN</td>\n",
       "      <td>NaN</td>\n",
       "    </tr>\n",
       "    <tr>\n",
       "      <th>621</th>\n",
       "      <td>622</td>\n",
       "      <td>5</td>\n",
       "      <td>2015-07-31</td>\n",
       "      <td>6306</td>\n",
       "      <td>540</td>\n",
       "      <td>1</td>\n",
       "      <td>0</td>\n",
       "      <td>1</td>\n",
       "      <td>NaN</td>\n",
       "      <td>NaN</td>\n",
       "      <td>NaN</td>\n",
       "      <td>NaN</td>\n",
       "    </tr>\n",
       "    <tr>\n",
       "      <th>878</th>\n",
       "      <td>879</td>\n",
       "      <td>5</td>\n",
       "      <td>2015-07-31</td>\n",
       "      <td>6000</td>\n",
       "      <td>466</td>\n",
       "      <td>1</td>\n",
       "      <td>0</td>\n",
       "      <td>0</td>\n",
       "      <td>NaN</td>\n",
       "      <td>NaN</td>\n",
       "      <td>NaN</td>\n",
       "      <td>NaN</td>\n",
       "    </tr>\n",
       "    <tr>\n",
       "      <th>1405</th>\n",
       "      <td>291</td>\n",
       "      <td>4</td>\n",
       "      <td>2015-07-30</td>\n",
       "      <td>9030</td>\n",
       "      <td>883</td>\n",
       "      <td>1</td>\n",
       "      <td>0</td>\n",
       "      <td>1</td>\n",
       "      <td>NaN</td>\n",
       "      <td>NaN</td>\n",
       "      <td>NaN</td>\n",
       "      <td>NaN</td>\n",
       "    </tr>\n",
       "    <tr>\n",
       "      <th>1736</th>\n",
       "      <td>622</td>\n",
       "      <td>4</td>\n",
       "      <td>2015-07-30</td>\n",
       "      <td>5412</td>\n",
       "      <td>406</td>\n",
       "      <td>1</td>\n",
       "      <td>0</td>\n",
       "      <td>1</td>\n",
       "      <td>NaN</td>\n",
       "      <td>NaN</td>\n",
       "      <td>NaN</td>\n",
       "      <td>NaN</td>\n",
       "    </tr>\n",
       "  </tbody>\n",
       "</table>\n",
       "</div>"
      ],
      "text/plain": [
       "      Store  DayOfWeek        Date  Sales  Customers  Promo StateHoliday  \\\n",
       "290     291          5  2015-07-31  10052        973      1            0   \n",
       "621     622          5  2015-07-31   6306        540      1            0   \n",
       "878     879          5  2015-07-31   6000        466      1            0   \n",
       "1405    291          4  2015-07-30   9030        883      1            0   \n",
       "1736    622          4  2015-07-30   5412        406      1            0   \n",
       "\n",
       "      SchoolHoliday StoreType Assortment  CompetitionDistance  Promo2  \n",
       "290               1       NaN        NaN                  NaN     NaN  \n",
       "621               1       NaN        NaN                  NaN     NaN  \n",
       "878               0       NaN        NaN                  NaN     NaN  \n",
       "1405              1       NaN        NaN                  NaN     NaN  \n",
       "1736              1       NaN        NaN                  NaN     NaN  "
      ]
     },
     "execution_count": 20,
     "metadata": {},
     "output_type": "execute_result"
    }
   ],
   "source": [
    "df_combined[df_combined.StoreType.isnull()].head()"
   ]
  },
  {
   "cell_type": "code",
   "execution_count": 21,
   "metadata": {},
   "outputs": [
    {
     "data": {
      "text/html": [
       "<div>\n",
       "<style scoped>\n",
       "    .dataframe tbody tr th:only-of-type {\n",
       "        vertical-align: middle;\n",
       "    }\n",
       "\n",
       "    .dataframe tbody tr th {\n",
       "        vertical-align: top;\n",
       "    }\n",
       "\n",
       "    .dataframe thead th {\n",
       "        text-align: right;\n",
       "    }\n",
       "</style>\n",
       "<table border=\"1\" class=\"dataframe\">\n",
       "  <thead>\n",
       "    <tr style=\"text-align: right;\">\n",
       "      <th></th>\n",
       "      <th>Store</th>\n",
       "      <th>StoreType</th>\n",
       "      <th>Assortment</th>\n",
       "      <th>CompetitionDistance</th>\n",
       "      <th>Promo2</th>\n",
       "    </tr>\n",
       "  </thead>\n",
       "  <tbody>\n",
       "  </tbody>\n",
       "</table>\n",
       "</div>"
      ],
      "text/plain": [
       "Empty DataFrame\n",
       "Columns: [Store, StoreType, Assortment, CompetitionDistance, Promo2]\n",
       "Index: []"
      ]
     },
     "execution_count": 21,
     "metadata": {},
     "output_type": "execute_result"
    }
   ],
   "source": [
    "#verifying that the reason I 'NaN' in some of the columns is because these stores don exist in the stores dataframe\n",
    "stores[stores.Store == 291]"
   ]
  },
  {
   "cell_type": "code",
   "execution_count": 22,
   "metadata": {},
   "outputs": [
    {
     "data": {
      "text/plain": [
       "(842206, 12)"
      ]
     },
     "execution_count": 22,
     "metadata": {},
     "output_type": "execute_result"
    }
   ],
   "source": [
    "#There are 2186 rows in where the Store# is not found in the 'stores' data set so I'm dropping those rows\n",
    "\n",
    "df_combined.dropna(inplace=True)\n",
    "df_combined.shape"
   ]
  },
  {
   "cell_type": "markdown",
   "metadata": {},
   "source": [
    "### New Feature Engineering on df_combined\n",
    "- Extract month from `Date`"
   ]
  },
  {
   "cell_type": "code",
   "execution_count": 23,
   "metadata": {},
   "outputs": [],
   "source": [
    "df_combined['Month'] = pd.DatetimeIndex(df_combined['Date']).month.values"
   ]
  },
  {
   "cell_type": "markdown",
   "metadata": {
    "_cell_guid": "8339e1d5-cf5c-420f-bb40-3a92b3a5186e",
    "_uuid": "9c19f2bc0fca159a3cd0ba5f9683caf7ecfd5d4c"
   },
   "source": [
    "## EDA"
   ]
  },
  {
   "cell_type": "markdown",
   "metadata": {},
   "source": [
    "To determine what type of models and predictors might work best for predicting sales, we studied which factors are causing the most variance in sales."
   ]
  },
  {
   "cell_type": "markdown",
   "metadata": {},
   "source": [
    "#### Variations based on Store Attributes"
   ]
  },
  {
   "cell_type": "markdown",
   "metadata": {},
   "source": [
    "One of the biggest sources of variance in sales is based on the store number. In the graph below we show the average sales for the first ten stores in the data set. We can see that the average sales are quite different for each store and that there is no linear pattern. We do see stores with similar sales levels, suggesting the stores may fall into groups.\n",
    "\n",
    "The scatterplot below that shows the average sales for all the stores. We can again see that some stores have similar levels of sales, so it's likely we can group stores together when making sales predictions, which is something for which tree models are well suited.\n",
    "\n",
    "Each store number is effectively a category with its own particular sales level. When predicting future sales, we would like a single model that can make predictions for each store rather than having to fit a separate model for each store."
   ]
  },
  {
   "cell_type": "code",
   "execution_count": 24,
   "metadata": {
    "scrolled": false
   },
   "outputs": [
    {
     "name": "stderr",
     "output_type": "stream",
     "text": [
      "c:\\users\\nana_oa\\appdata\\local\\programs\\python\\python36-32\\lib\\site-packages\\scipy\\stats\\stats.py:1713: FutureWarning: Using a non-tuple sequence for multidimensional indexing is deprecated; use `arr[tuple(seq)]` instead of `arr[seq]`. In the future this will be interpreted as an array index, `arr[np.array(seq)]`, which will result either in an error or a different result.\n",
      "  return np.add.reduce(sorted[indexer] * weights, axis=axis) / sumval\n"
     ]
    },
    {
     "data": {
      "image/png": "[encoded data removed]",
      "text/plain": [
       "<Figure size 432x288 with 1 Axes>"
      ]
     },
     "metadata": {},
     "output_type": "display_data"
    },
    {
     "data": {
      "image/png": "[encoded data removed]",
      "text/plain": [
       "<Figure size 432x288 with 1 Axes>"
      ]
     },
     "metadata": {},
     "output_type": "display_data"
    }
   ],
   "source": [
    "df_subset = df_combined[(df_combined['Store'] < 11)]\n",
    "sns.set(font_scale=2)\n",
    "\n",
    "# Plot store sales for stores 1 to 10\n",
    "fig, ax = plt.subplots(1,1)\n",
    "\n",
    "p3 = sns.barplot(x='Store', y='Sales', data=df_subset, ax=ax)\n",
    "ax.set(xlabel='Store Number')\n",
    "ax.set_ylabel('Average Sales')\n",
    "ax.set_title('Sales for ten stores')\n",
    "\n",
    "plt.show()\n",
    "\n",
    "# Create a plot of average sales per store id\n",
    "avg_sales_per_store = df_combined[['Sales', 'Store']].groupby('Store').mean()\n",
    "avg_sales_per_store.reset_index().plot(kind='scatter', x='Store', y='Sales')\n",
    "plt.xlim(0,960)\n",
    "plt.title(\"Average Sales by Store Number\")\n",
    "plt.show()"
   ]
  },
  {
   "cell_type": "code",
   "execution_count": 25,
   "metadata": {},
   "outputs": [],
   "source": [
    "#The data set has categorical variables for different store types and the assortment of products for sale at each store. We see that these categories are a source of variance in sales."
   ]
  },
  {
   "cell_type": "markdown",
   "metadata": {},
   "source": [
    "#### Impact of Number of Customers"
   ]
  },
  {
   "cell_type": "markdown",
   "metadata": {},
   "source": [
    "After exploration of the train and test sets, we ascertained that only the training data contains the number of Customers feature. The visualization below shows the positive correlation between the number of customers and sales (and also outliers). This feature is highly correlated with sales, but it’s not available until after the sales occur (i.e. it’s not in the test set). But exploring this feature helps make a case for including a proxy for the Customers feature in our final predictors (see the Feature Engineering section).\n",
    "\n",
    "We also see that there’s added information with the behavior of customers per StoreType. We see that StoreType d (shown in green) that projects to the upper left quadrant. This means that for the same level of Sales, StoreType d requires fewer customers than StoreType b (blue). There’s less clarity of StoreType impact in the middle of the cone shaped scatter, but we can certainly see the impact of Customers and Sales conditional on the StoreType mostly in the outer regions of the visualization. Thus StoreType is a relevant feature, but as a function of Customers, as we can see that around 2000 to 3000 Customers there’s a break in the cluster pattern of the middle section of the cone. Therefore, further substantiation for us to include a proxy of the Customers feature in the model."
   ]
  },
  {
   "cell_type": "code",
   "execution_count": 26,
   "metadata": {},
   "outputs": [
    {
     "data": {
      "text/plain": [
       "<seaborn.axisgrid.FacetGrid at 0x1249c150>"
      ]
     },
     "execution_count": 26,
     "metadata": {},
     "output_type": "execute_result"
    },
    {
     "data": {
      "image/png": "[encoded data removed]",
      "text/plain": [
       "<Figure size 867.834x504 with 1 Axes>"
      ]
     },
     "metadata": {},
     "output_type": "display_data"
    }
   ],
   "source": [
    "sns.lmplot(x='Customers', y='Sales', data=df_combined, hue='StoreType',fit_reg=False,\n",
    "           scatter_kws={'alpha':0.1}, height=7, aspect=1.5)"
   ]
  },
  {
   "cell_type": "code",
   "execution_count": 27,
   "metadata": {
    "_cell_guid": "0190bc75-61b4-489f-bffd-71d40eed41b6",
    "_uuid": "56594318e444d4391d5cfb516eb8c955f6d11ea5",
    "scrolled": false
   },
   "outputs": [
    {
     "name": "stderr",
     "output_type": "stream",
     "text": [
      "c:\\users\\nana_oa\\appdata\\local\\programs\\python\\python36-32\\lib\\site-packages\\seaborn\\axisgrid.py:230: UserWarning: The `size` paramter has been renamed to `height`; please update your code.\n",
      "  warnings.warn(msg, UserWarning)\n"
     ]
    },
    {
     "data": {
      "text/plain": [
       "<seaborn.axisgrid.FacetGrid at 0x12e318f0>"
      ]
     },
     "execution_count": 27,
     "metadata": {},
     "output_type": "execute_result"
    },
    {
     "data": {
      "image/png": "[encoded data removed]",
      "text/plain": [
       "<Figure size 864x576 with 4 Axes>"
      ]
     },
     "metadata": {},
     "output_type": "display_data"
    }
   ],
   "source": [
    "g = sns.FacetGrid(df_combined, col=\"StoreType\", col_wrap=2, size=4, aspect=1.5)\n",
    "g.map(plt.scatter, \"Customers\", \"Sales\")"
   ]
  },
  {
   "cell_type": "markdown",
   "metadata": {},
   "source": [
    "### Process categorical columns\n",
    "\n",
    "Before we can start modeling, we need to convert categorical variables into one-hot encoded binary variables.\n",
    "In `df_combined`, one-hot encode the following:\n",
    "\n",
    "- `Store`\n",
    "- `StoreType`\n",
    "- `Assortment` \n",
    "- `StateHoliday` "
   ]
  },
  {
   "cell_type": "markdown",
   "metadata": {},
   "source": [
    "Notice that we have two zero values for `StateHoliday`: one integer and one string. Let us fix this and have one string zero value for all `StateHoliday` representations."
   ]
  },
  {
   "cell_type": "code",
   "execution_count": 28,
   "metadata": {},
   "outputs": [
    {
     "data": {
      "text/plain": [
       "array(['0', 'a', 'b', 'c', 0], dtype=object)"
      ]
     },
     "execution_count": 28,
     "metadata": {},
     "output_type": "execute_result"
    }
   ],
   "source": [
    "# Display unique values of 'StateHoliday'\n",
    "df_combined.StateHoliday.unique()"
   ]
  },
  {
   "cell_type": "code",
   "execution_count": 29,
   "metadata": {},
   "outputs": [
    {
     "data": {
      "text/plain": [
       "Store                    int64\n",
       "DayOfWeek                int64\n",
       "Date                    object\n",
       "Sales                    int64\n",
       "Customers                int64\n",
       "Promo                    int64\n",
       "StateHoliday            object\n",
       "SchoolHoliday            int64\n",
       "StoreType               object\n",
       "Assortment              object\n",
       "CompetitionDistance    float64\n",
       "Promo2                 float64\n",
       "Month                    int64\n",
       "dtype: object"
      ]
     },
     "execution_count": 29,
     "metadata": {},
     "output_type": "execute_result"
    }
   ],
   "source": [
    "df_combined.dtypes"
   ]
  },
  {
   "cell_type": "code",
   "execution_count": 30,
   "metadata": {},
   "outputs": [
    {
     "name": "stdout",
     "output_type": "stream",
     "text": [
      "   A  B  C\n",
      "0  1  5  a\n",
      "1  0  6  b\n",
      "2  2  0  c\n",
      "3  3  8  d\n",
      "4  4  9  e\n"
     ]
    },
    {
     "data": {
      "text/html": [
       "<div>\n",
       "<style scoped>\n",
       "    .dataframe tbody tr th:only-of-type {\n",
       "        vertical-align: middle;\n",
       "    }\n",
       "\n",
       "    .dataframe tbody tr th {\n",
       "        vertical-align: top;\n",
       "    }\n",
       "\n",
       "    .dataframe thead th {\n",
       "        text-align: right;\n",
       "    }\n",
       "</style>\n",
       "<table border=\"1\" class=\"dataframe\">\n",
       "  <thead>\n",
       "    <tr style=\"text-align: right;\">\n",
       "      <th></th>\n",
       "      <th>A</th>\n",
       "      <th>B</th>\n",
       "      <th>C</th>\n",
       "    </tr>\n",
       "  </thead>\n",
       "  <tbody>\n",
       "    <tr>\n",
       "      <th>0</th>\n",
       "      <td>1</td>\n",
       "      <td>a</td>\n",
       "      <td>a</td>\n",
       "    </tr>\n",
       "    <tr>\n",
       "      <th>1</th>\n",
       "      <td>a</td>\n",
       "      <td>6</td>\n",
       "      <td>b</td>\n",
       "    </tr>\n",
       "    <tr>\n",
       "      <th>2</th>\n",
       "      <td>2</td>\n",
       "      <td>0</td>\n",
       "      <td>c</td>\n",
       "    </tr>\n",
       "    <tr>\n",
       "      <th>3</th>\n",
       "      <td>3</td>\n",
       "      <td>8</td>\n",
       "      <td>d</td>\n",
       "    </tr>\n",
       "    <tr>\n",
       "      <th>4</th>\n",
       "      <td>4</td>\n",
       "      <td>9</td>\n",
       "      <td>e</td>\n",
       "    </tr>\n",
       "  </tbody>\n",
       "</table>\n",
       "</div>"
      ],
      "text/plain": [
       "   A  B  C\n",
       "0  1  a  a\n",
       "1  a  6  b\n",
       "2  2  0  c\n",
       "3  3  8  d\n",
       "4  4  9  e"
      ]
     },
     "execution_count": 30,
     "metadata": {},
     "output_type": "execute_result"
    }
   ],
   "source": [
    "df_test = pd.DataFrame({'A': [1, 0, 2, 3, 4], 'B': [5, 6, 0, 8, 9], 'C': ['a', 'b', 'c', 'd', 'e']})\n",
    "#print(df_test['A'].replace(0, 5))\n",
    "print(df_test)\n",
    "df_test = df_test.replace({'A': 0, 'B': 5}, 'a')\n",
    "#print(df_test)\n",
    "df_test"
   ]
  },
  {
   "cell_type": "code",
   "execution_count": 31,
   "metadata": {},
   "outputs": [
    {
     "data": {
      "text/plain": [
       "array(['0', 'a', 'b', 'c'], dtype=object)"
      ]
     },
     "execution_count": 31,
     "metadata": {},
     "output_type": "execute_result"
    }
   ],
   "source": [
    "#df_combined[df_combined.StateHoliday == '0']['StateHoliday'].head()\n",
    "df_combined_test = df_combined.replace({'StateHoliday': 0}, '0')\n",
    "df_combined_test.StateHoliday.unique()"
   ]
  },
  {
   "cell_type": "markdown",
   "metadata": {},
   "source": [
    "###### Question 6"
   ]
  },
  {
   "cell_type": "code",
   "execution_count": 32,
   "metadata": {},
   "outputs": [
    {
     "data": {
      "text/plain": [
       "array(['0', 'a', 'b', 'c'], dtype=object)"
      ]
     },
     "execution_count": 32,
     "metadata": {},
     "output_type": "execute_result"
    }
   ],
   "source": [
    "# YOUR CODE\n",
    "# Your result shoud look like this: \n",
    "### array(['0', 'a', 'b', 'c'], dtype=object)\n",
    "df_combined = df_combined.replace({'StateHoliday': 0}, '0')\n",
    "df_combined.StateHoliday.unique()\n",
    "\n"
   ]
  },
  {
   "cell_type": "code",
   "execution_count": 33,
   "metadata": {},
   "outputs": [
    {
     "data": {
      "text/plain": [
       "Series([], Name: StateHoliday, dtype: object)"
      ]
     },
     "execution_count": 33,
     "metadata": {},
     "output_type": "execute_result"
    }
   ],
   "source": [
    "#testing to make sure not int 0's exist\n",
    "df_combined[df_combined.StateHoliday == 0]['StateHoliday'].head()"
   ]
  },
  {
   "cell_type": "code",
   "execution_count": 34,
   "metadata": {},
   "outputs": [
    {
     "data": {
      "text/plain": [
       "array([   1,    2,    3, ..., 1115,  876,  292], dtype=int64)"
      ]
     },
     "execution_count": 34,
     "metadata": {},
     "output_type": "execute_result"
    }
   ],
   "source": [
    "df_combined.Store.unique()"
   ]
  },
  {
   "cell_type": "markdown",
   "metadata": {},
   "source": [
    "###### Question 7"
   ]
  },
  {
   "cell_type": "code",
   "execution_count": 35,
   "metadata": {},
   "outputs": [],
   "source": [
    "#The next 5 lines of commented-out code were my attempts to get the dataframe size down to fix the memory error\n",
    "#I was getting from one-hot encoding the 'Store' feature\n",
    "\n",
    "#df_combined.head()"
   ]
  },
  {
   "cell_type": "code",
   "execution_count": 36,
   "metadata": {},
   "outputs": [],
   "source": [
    "#df_combined['Store'] = df_combined['Store'].astype('uint16')"
   ]
  },
  {
   "cell_type": "code",
   "execution_count": 37,
   "metadata": {},
   "outputs": [],
   "source": [
    "#df_combined.dtypes"
   ]
  },
  {
   "cell_type": "code",
   "execution_count": 38,
   "metadata": {
    "scrolled": true
   },
   "outputs": [],
   "source": [
    "#df_combined.head()"
   ]
  },
  {
   "cell_type": "code",
   "execution_count": 39,
   "metadata": {},
   "outputs": [],
   "source": [
    "#df_combined.Store.unique()"
   ]
  },
  {
   "cell_type": "code",
   "execution_count": 40,
   "metadata": {},
   "outputs": [],
   "source": [
    "# YOUR CODE\n",
    "# Transforme the variables into one-hot-encoding using the get_dummies() method\n",
    "df_combined = pd.get_dummies(df_combined, columns=['StoreType', 'Assortment', 'StateHoliday'])"
   ]
  },
  {
   "cell_type": "code",
   "execution_count": 41,
   "metadata": {},
   "outputs": [],
   "source": [
    "#Test code for using the get_dummies functions\n",
    "##df_test_dm = pd.DataFrame({'A': ['a', 'b', 'a'], 'B': ['b', 'a', 'c'], 'C': [1, 2, 3]})\n",
    "##print(df_test_dm)\n",
    "##df_test_dm = pd.get_dummies(df_test_dm, columns=['A', 'B'], sparse=True)\n",
    "##print(df_test_dm)"
   ]
  },
  {
   "cell_type": "markdown",
   "metadata": {
    "_cell_guid": "f8974e36-d25b-457c-baaa-88de595b76d8",
    "_uuid": "5b54e070f7cde4cf7b6f4e55da6b44289506aec7"
   },
   "source": [
    "## Rossmann Data Modeling"
   ]
  },
  {
   "cell_type": "markdown",
   "metadata": {},
   "source": [
    "Due to the regressive predictive nature of The Rossmann Project, we decided to approach our model methodology with a Linear Regression base model with feature selection. Note: you can also consider Ridge regression to evaluate the effects of regularization on the predictive performance. "
   ]
  },
  {
   "cell_type": "markdown",
   "metadata": {},
   "source": [
    "*Note: The time dimension has a tremendous impact in this project. The Kaggle competition consisted in predicted the next 6 weeks (or 42 days), our splitting lead to have a testing set very large of over 900 days, explaining the fast degradation of the explained variance. These issues are the same the world of finance and economics are facing. For example the usage of an AR(n) to predict future outcomes quickly converge to a stationary states. In a real world, one would adjust the model based on the observed error. This is the spirit of tools such as the 'Kalman Filter' that are usually implemented in these domains.* \n",
    "\n",
    "*One other potential approach would consist in implementing more complicated model that naturally combine time series and decision tree, such as ART (Autoregressive Trees). The proposed method are outside of the scope of this course and thus we will focus on some other tehniques here.*"
   ]
  },
  {
   "cell_type": "markdown",
   "metadata": {},
   "source": [
    "### Linear Regression"
   ]
  },
  {
   "cell_type": "markdown",
   "metadata": {},
   "source": [
    "Linear regression is an intuitive first baseline model."
   ]
  },
  {
   "cell_type": "markdown",
   "metadata": {},
   "source": [
    "#### Load libraries"
   ]
  },
  {
   "cell_type": "code",
   "execution_count": 42,
   "metadata": {},
   "outputs": [],
   "source": [
    "from sklearn import linear_model\n",
    "from sklearn.metrics import r2_score\n",
    "from sklearn.model_selection import train_test_split"
   ]
  },
  {
   "cell_type": "code",
   "execution_count": 43,
   "metadata": {},
   "outputs": [
    {
     "data": {
      "text/plain": [
       "Index(['Store', 'DayOfWeek', 'Date', 'Sales', 'Customers', 'Promo',\n",
       "       'SchoolHoliday', 'CompetitionDistance', 'Promo2', 'Month',\n",
       "       'StoreType_a', 'StoreType_b', 'StoreType_c', 'StoreType_d',\n",
       "       'Assortment_a', 'Assortment_b', 'Assortment_c', 'StateHoliday_0',\n",
       "       'StateHoliday_a', 'StateHoliday_b', 'StateHoliday_c'],\n",
       "      dtype='object')"
      ]
     },
     "execution_count": 43,
     "metadata": {},
     "output_type": "execute_result"
    }
   ],
   "source": [
    "df_combined.columns"
   ]
  },
  {
   "cell_type": "markdown",
   "metadata": {},
   "source": [
    "Keep features for modeling:"
   ]
  },
  {
   "cell_type": "code",
   "execution_count": 44,
   "metadata": {},
   "outputs": [
    {
     "name": "stdout",
     "output_type": "stream",
     "text": [
      "['Store', 'StoreType_a', 'StoreType_b', 'StoreType_c', 'StoreType_d', 'Assortment_a', 'Assortment_b', 'Assortment_c', 'StateHoliday_0', 'StateHoliday_a', 'StateHoliday_b', 'StateHoliday_c', 'CompetitionDistance', 'Promo2', 'Promo', 'DayOfWeek', 'Month', 'SchoolHoliday']\n"
     ]
    }
   ],
   "source": [
    "#I could not resolve my memory error for encoding the 'Store' feature, so I'm modifying the code not to include it\n",
    "#store_feats = [c for c in df_combined if \"Store_\" in c] # columns related to one-hot encoded `Store`\n",
    "store_type_feats = [c for c in df_combined if \"StoreType_\" in c] # columns related to one-hot encoded `StoreType_`\n",
    "assortment_feats = [c for c in df_combined if \"Assortment_\" in c] # columns related to one-hot encoded `Assortment_`\n",
    "state_holiday_feats = [c for c in df_combined if \"StateHoliday_\" in c] # columns related to one-hot encoded `StateHoliday_`\n",
    "extra_feats = ['CompetitionDistance', 'Promo2', 'Promo',\n",
    "            'DayOfWeek', 'Month', \n",
    "            'SchoolHoliday']\n",
    "#features = store_feats + store_type_feats + assortment_feats + state_holiday_feats + extra_feats\n",
    "features = ['Store'] + store_type_feats + assortment_feats + state_holiday_feats + extra_feats\n",
    "\n",
    "target = 'Sales'\n",
    "print(features)"
   ]
  },
  {
   "cell_type": "markdown",
   "metadata": {},
   "source": [
    "#### Linear Regression\n",
    "\n",
    "This takes a bit of time because we have a lot of predictor columns."
   ]
  },
  {
   "cell_type": "code",
   "execution_count": 45,
   "metadata": {},
   "outputs": [
    {
     "name": "stdout",
     "output_type": "stream",
     "text": [
      "Train R2 score: 0.21\n",
      "Test R2 score: 0.21\n"
     ]
    }
   ],
   "source": [
    "# Split the data into train/test\n",
    "X_train, X_test, y_train, y_test = train_test_split(df_combined[features], df_combined[target], test_size=0.33)\n",
    "\n",
    "# Create linear regression object\n",
    "regr = linear_model.LinearRegression()\n",
    "\n",
    "# Train the model using the training sets\n",
    "regr.fit(X_train, y_train)\n",
    "\n",
    "# Make predictions using the testing set\n",
    "y_pred = regr.predict(X_test)\n",
    "\n",
    "# Explained variance score: 1 is perfect prediction\n",
    "print('Train R2 score: %.2f' % r2_score(y_train, regr.predict(X_train)))\n",
    "print('Test R2 score: %.2f' % r2_score(y_test, y_pred))"
   ]
  },
  {
   "cell_type": "markdown",
   "metadata": {},
   "source": [
    "###### Question 8\n",
    "Plot the residual plot"
   ]
  },
  {
   "cell_type": "code",
   "execution_count": 46,
   "metadata": {},
   "outputs": [
    {
     "data": {
      "image/png": "[encoded data removed]",
      "text/plain": [
       "<Figure size 1440x360 with 1 Axes>"
      ]
     },
     "metadata": {},
     "output_type": "display_data"
    }
   ],
   "source": [
    "# YOUR CODE\n",
    "# Plot residual plot: residuals vs. fitted values\n",
    "# Residuals = y_true - y_pred\n",
    "# Fitted values = y_pred\n",
    "# Don't forget to label your plot\n",
    "\n",
    "# Plot outputs\n",
    "plt.figure(figsize=(20, 5))\n",
    "plt.scatter(y_test, y_pred, color='black')\n",
    "plt.plot([y_test.min(), y_test.max()], [y_test.min(), y_test.max()], 'k--', lw=4, color='blue')\n",
    "\n",
    "plt.ylabel('Predicted')\n",
    "plt.xlabel('Measured')\n",
    "\n",
    "plt.xticks(())\n",
    "plt.yticks(())\n",
    "\n",
    "plt.show()"
   ]
  },
  {
   "cell_type": "markdown",
   "metadata": {},
   "source": [
    "###### Question 9\n",
    "Can you reason about the residual plot?"
   ]
  },
  {
   "cell_type": "markdown",
   "metadata": {},
   "source": [
    "###### Your Answer: This clear is not a model and could benefit from the 'Store' feature being one-hot encoded. But for the markers near the regression line, this seems to be a decent model and it would interesting and beneficial to see what the similarities are amoungst those markers"
   ]
  },
  {
   "cell_type": "markdown",
   "metadata": {},
   "source": [
    "### Tree Based Models"
   ]
  },
  {
   "cell_type": "markdown",
   "metadata": {},
   "source": [
    "It has been well established that bagging and other resampling techniques can be used to reduce the variance in model predictions. As several replicates of the original data set are created using random selection with replacement, at every step, each derivative data set is then used to construct a new model and the models are gathered together into an ensemble. To make a prediction, all of the models in the ensemble are polled and their results are averaged in the case of regression, which is our specific approach.\n",
    "\n",
    "As well, it has been well established that a powerful modeling algorithm that makes good use of bagging is Random Forests, which works by training numerous decision trees each based on a different resampling of the original training data. The random forest algorithm improves on bagging by training each tree on a random sample of the available features, to prevent each tree from choosing the same predictors.\n",
    "\n",
    "In Random Forests the bias of the full model is equivalent to the bias of a single decision tree, which itself has high variance. By creating many of these trees, a forest, and then averaging them, the variance of the final model can be greatly reduced over that of a single tree. In practice the only limitation we encountered on the size of the forest is computing time, as an infinite number of trees could be trained without ever increasing bias and with a continual - if asymptotically declining - decrease in the variance.\n",
    "\n",
    "It is for the aforementioned that we considered Random Forests as a Baseline Ensemble and its constituent, the Decision Tree Regressor as a baseline model as well."
   ]
  },
  {
   "cell_type": "markdown",
   "metadata": {},
   "source": [
    "### Decision Trees"
   ]
  },
  {
   "cell_type": "markdown",
   "metadata": {},
   "source": [
    "Decision trees were implemented as to evaluate the base consituent of the Random Forest ensemble. As per our research on previous models, Random Forest is a very good performance candidate for a baseline ensemble model for Rossmann.\n",
    "\n",
    "Decision Trees are also evaluated as a non-parametric baseline model, which enriches the comparative analysis of the Linear Regression Models.\n",
    "\n",
    "For fitting the decision tree model, we do not need to create dummy variables for categorical columns, since trees are able to make use of the factorized category values we created during data cleaning."
   ]
  },
  {
   "cell_type": "markdown",
   "metadata": {},
   "source": [
    "### Random Forest"
   ]
  },
  {
   "cell_type": "markdown",
   "metadata": {},
   "source": [
    "Next we considered Random Forest models. "
   ]
  },
  {
   "cell_type": "code",
   "execution_count": 47,
   "metadata": {},
   "outputs": [
    {
     "name": "stderr",
     "output_type": "stream",
     "text": [
      "c:\\users\\nana_oa\\appdata\\local\\programs\\python\\python36-32\\lib\\site-packages\\sklearn\\ensemble\\weight_boosting.py:29: DeprecationWarning: numpy.core.umath_tests is an internal NumPy module and should not be imported. It will be removed in a future NumPy release.\n",
      "  from numpy.core.umath_tests import inner1d\n"
     ]
    }
   ],
   "source": [
    "# Load libraries\n",
    "from sklearn.ensemble import RandomForestRegressor"
   ]
  },
  {
   "cell_type": "code",
   "execution_count": 48,
   "metadata": {},
   "outputs": [
    {
     "name": "stdout",
     "output_type": "stream",
     "text": [
      "R2 score on train:  0.922925089096269\n",
      "R2 score on test:  0.8520891446714242\n"
     ]
    }
   ],
   "source": [
    "rf = RandomForestRegressor(random_state=10)\n",
    "rf.fit(X_train, y_train)\n",
    "\n",
    "print('R2 score on train: ', rf.score(X_train, y_train))\n",
    "print('R2 score on test: ', rf.score(X_test, y_test))"
   ]
  },
  {
   "cell_type": "markdown",
   "metadata": {},
   "source": [
    "###### Question 10"
   ]
  },
  {
   "cell_type": "markdown",
   "metadata": {},
   "source": [
    "Plot the residual plot"
   ]
  },
  {
   "cell_type": "code",
   "execution_count": 49,
   "metadata": {},
   "outputs": [
    {
     "data": {
      "image/png": "[encoded data removed]",
      "text/plain": [
       "<Figure size 1440x360 with 1 Axes>"
      ]
     },
     "metadata": {},
     "output_type": "display_data"
    }
   ],
   "source": [
    "# YOUR CODE\n",
    "# Plot residual plot: residuals vs. fitted values\n",
    "# Residuals = y_true - y_pred\n",
    "# Fitted values = y_pred\n",
    "# Don't forget to label your plot\n",
    "\n",
    "# Make predictions using the testing set for Randdom Forest\n",
    "y_pred = rf.predict(X_test)\n",
    "\n",
    "\n",
    "# Plot outputs\n",
    "plt.figure(figsize=(20, 5))\n",
    "plt.scatter(y_test, y_pred, color='black')\n",
    "plt.plot([y_test.min(), y_test.max()], [y_test.min(), y_test.max()], 'k--', lw=4, color='blue')\n",
    "\n",
    "plt.ylabel('Predicted')\n",
    "plt.xlabel('Measured')\n",
    "\n",
    "plt.xticks(())\n",
    "plt.yticks(())\n",
    "\n",
    "plt.show()"
   ]
  },
  {
   "cell_type": "markdown",
   "metadata": {},
   "source": [
    "###### Question 11\n",
    "#### Which model is better? Give 1 possible approach to improve your best model. ** Your answer: The Random Forest Regression is better. It possibly can be improved by removing outliers and/or examine the coefficients of the features to see if there are any that features that have a low correlation and that are just adding noise**"
   ]
  },
  {
   "cell_type": "markdown",
   "metadata": {},
   "source": [
    "## Export models "
   ]
  },
  {
   "cell_type": "markdown",
   "metadata": {},
   "source": [
    "In our final step, we will choose the best model and explore some important prediction elements. Our app accepts features and gives predictions based on users inputs. Let us see what kind of data input is neccessarry (this is important for you to setup the proper input on the Flask side). "
   ]
  },
  {
   "cell_type": "markdown",
   "metadata": {},
   "source": [
    "For example, take one simple observation (we are using first data row):"
   ]
  },
  {
   "cell_type": "code",
   "execution_count": 50,
   "metadata": {},
   "outputs": [
    {
     "data": {
      "text/plain": [
       "Store                    453.0\n",
       "StoreType_a                1.0\n",
       "StoreType_b                0.0\n",
       "StoreType_c                0.0\n",
       "StoreType_d                0.0\n",
       "Assortment_a               0.0\n",
       "Assortment_b               0.0\n",
       "Assortment_c               1.0\n",
       "StateHoliday_0             1.0\n",
       "StateHoliday_a             0.0\n",
       "StateHoliday_b             0.0\n",
       "StateHoliday_c             0.0\n",
       "CompetitionDistance    75860.0\n",
       "Promo2                     0.0\n",
       "Promo                      0.0\n",
       "DayOfWeek                  1.0\n",
       "Month                     11.0\n",
       "SchoolHoliday              0.0\n",
       "Name: 650827, dtype: float64"
      ]
     },
     "execution_count": 50,
     "metadata": {},
     "output_type": "execute_result"
    }
   ],
   "source": [
    "# Print first row\n",
    "X_test.iloc[0]"
   ]
  },
  {
   "cell_type": "markdown",
   "metadata": {},
   "source": [
    "Predict based on your first row:"
   ]
  },
  {
   "cell_type": "code",
   "execution_count": 51,
   "metadata": {},
   "outputs": [
    {
     "data": {
      "text/plain": [
       "array([6097.81])"
      ]
     },
     "execution_count": 51,
     "metadata": {},
     "output_type": "execute_result"
    }
   ],
   "source": [
    "# Test for your app\n",
    "rf.predict(np.array(X_test.iloc[0]).reshape(1, -1))"
   ]
  },
  {
   "cell_type": "markdown",
   "metadata": {},
   "source": [
    "Therefore, your input needs to be **numpy array** with the same column order as df_combined. Now, we can export pur model and get ready for the second part of the homework. "
   ]
  },
  {
   "cell_type": "code",
   "execution_count": 52,
   "metadata": {},
   "outputs": [
    {
     "data": {
      "text/plain": [
       "['rm.pkl']"
      ]
     },
     "execution_count": 52,
     "metadata": {},
     "output_type": "execute_result"
    }
   ],
   "source": [
    "from sklearn.externals import joblib\n",
    "#joblib.dump(rf, 'rm.pkl', compress=True)"
   ]
  },
  {
   "cell_type": "code",
   "execution_count": null,
   "metadata": {},
   "outputs": [],
   "source": []
  }
 ],
 "metadata": {
  "anaconda-cloud": {},
  "kernelspec": {
   "display_name": "Python 3",
   "language": "python",
   "name": "python3"
  },
  "language_info": {
   "codemirror_mode": {
    "name": "ipython",
    "version": 3
   },
   "file_extension": ".py",
   "mimetype": "text/x-python",
   "name": "python",
   "nbconvert_exporter": "python",
   "pygments_lexer": "ipython3",
   "version": "3.6.4"
  }
 },
 "nbformat": 4,
 "nbformat_minor": 1
}
